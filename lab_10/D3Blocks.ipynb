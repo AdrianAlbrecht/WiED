{
  "cells": [
    {
      "cell_type": "code",
      "execution_count": 103,
      "metadata": {
        "colab": {
          "base_uri": "https://localhost:8080/"
        },
        "id": "Tmr1JdazACCI",
        "outputId": "07d864f8-a7dc-452a-db43-34a7506e7e71"
      },
      "outputs": [
        {
          "name": "stderr",
          "output_type": "stream",
          "text": [
            "[d3blocks] >INFO> Cleaning edge_properties and config parameters..\n",
            "[d3blocks] >INFO> Extracting files..\n",
            "[d3blocks] >INFO> Import dataset: [energy]\n"
          ]
        },
        {
          "name": "stdout",
          "output_type": "stream",
          "text": [
            "                     source            target   weight\n",
            "0      Agricultural 'waste'    Bio-conversion  124.729\n",
            "1            Bio-conversion            Liquid    0.597\n",
            "2            Bio-conversion            Losses   26.862\n",
            "3            Bio-conversion             Solid  280.322\n",
            "4            Bio-conversion               Gas   81.144\n",
            "..                      ...               ...      ...\n",
            "63       Thermal generation  District heating   79.329\n",
            "64                    Tidal  Electricity grid    9.452\n",
            "65  UK land based bioenergy    Bio-conversion  182.010\n",
            "66                     Wave  Electricity grid   19.013\n",
            "67                     Wind  Electricity grid  289.366\n",
            "\n",
            "[68 rows x 3 columns]\n"
          ]
        }
      ],
      "source": [
        "from d3blocks import D3Blocks\n",
        "\n",
        "d3 = D3Blocks()\n",
        "\n",
        "df = d3.import_example('energy')\n",
        "\n",
        "print(df)"
      ]
    },
    {
      "cell_type": "code",
      "execution_count": 105,
      "metadata": {
        "colab": {
          "base_uri": "https://localhost:8080/"
        },
        "id": "-lFqd9ciBC_X",
        "outputId": "8697e0a1-a7ab-45a2-df6c-1dfe2df439b9"
      },
      "outputs": [
        {
          "name": "stderr",
          "output_type": "stream",
          "text": [
            "[d3blocks] >INFO> Set directed=True to see the markers!\n",
            "[d3blocks] >INFO> Keep only edges with weight>0\n",
            "[d3blocks] >INFO> Number of unique nodes: 48\n",
            "[d3blocks] >INFO> Slider range is set to [0, 840]\n",
            "[d3blocks] >INFO> Write to path: [p:\\Programming\\WD\\lab_10\\d3graph.html]\n",
            "[d3blocks] >INFO> File already exists and will be overwritten: [p:\\Programming\\WD\\lab_10\\d3graph.html]\n",
            "[d3blocks] >INFO> Number of unique nodes: 48\n",
            "[d3blocks] >INFO> Slider range is set to [0, 840]\n",
            "[d3blocks] >INFO> Write to path: [p:\\Programming\\WD\\lab_10\\d3graph.html]\n",
            "[d3blocks] >INFO> File already exists and will be overwritten: [p:\\Programming\\WD\\lab_10\\d3graph.html]\n"
          ]
        }
      ],
      "source": [
        "d3.d3graph(df, showfig=False, filepath='./d3graph.html')\n",
        "\n",
        "d3.D3graph.set_node_properties(color=\"cluster\")\n",
        "\n",
        "d3.D3graph.node_properties['Thermal_generation']['size']=30\n",
        "d3.D3graph.node_properties['Thermal_generation']['edge_color']= '#fff000'\n",
        "d3.D3graph.node_properties['Thermal_generation']['edge_size']= 5\n",
        "\n",
        "d3.D3graph.edge_properties['Solar', 'Solar_Thermal']['color']= '#fff000'\n",
        "d3.D3graph.edge_properties['Solar', 'Solar_Thermal']['weight_scaled']= 12\n",
        "\n",
        "d3.D3graph.show(filepath='./d3graph.html')"
      ]
    },
    {
      "cell_type": "code",
      "execution_count": 86,
      "metadata": {},
      "outputs": [
        {
          "name": "stderr",
          "output_type": "stream",
          "text": [
            "[d3blocks] >INFO> Extracting files..\n",
            "[d3blocks] >INFO> Import dataset: [stormofswords]\n",
            "[d3blocks] >INFO> Cleaning edge_properties and config parameters..\n",
            "[d3blocks] >INFO> Initializing [Sankey]\n",
            "[d3blocks] >INFO> filepath is set to [p:\\Programming\\WD\\lab_10\\sankey.html]\n",
            "[d3blocks] >INFO> Convert to Frame.\n",
            "[d3blocks] >INFO> Node properties are set.\n",
            "[d3blocks] >INFO> Edge properties are set.\n",
            "[d3blocks] >INFO> File already exists and will be overwritten: [p:\\Programming\\WD\\lab_10\\sankey.html]\n",
            "[d3blocks] >INFO> Open browser: p:\\Programming\\WD\\lab_10\\sankey.html\n"
          ]
        }
      ],
      "source": [
        "df = d3.import_example('stormofswords')\n",
        "\n",
        "d3.sankey(df, link={\"color\": \"source-target\"}, filepath='./sankey.html')"
      ]
    },
    {
      "cell_type": "code",
      "execution_count": 87,
      "metadata": {},
      "outputs": [
        {
          "name": "stderr",
          "output_type": "stream",
          "text": [
            "[d3blocks] >INFO> Cleaning edge_properties and config parameters..\n",
            "[d3blocks] >INFO> Initializing [Chord]\n",
            "[d3blocks] >INFO> filepath is set to [p:\\Programming\\WD\\lab_10\\chord.html]\n",
            "[d3blocks] >INFO> Convert to Frame.\n",
            "[d3blocks] >INFO> Node properties are set.\n",
            "[d3blocks] >INFO> Set edge-opacity based on the [source] node-opacity.\n",
            "[d3blocks] >INFO> Set edge-colors based on the [source] node-color.\n",
            "[d3blocks] >INFO> Edge properties are set.\n",
            "[d3blocks] >INFO> File already exists and will be overwritten: [p:\\Programming\\WD\\lab_10\\chord.html]\n",
            "[d3blocks] >INFO> Open browser: p:\\Programming\\WD\\lab_10\\chord.html\n"
          ]
        }
      ],
      "source": [
        "d3.chord(df, filepath='./chord.html',cmap='tab20')"
      ]
    },
    {
      "cell_type": "code",
      "execution_count": 106,
      "metadata": {},
      "outputs": [
        {
          "name": "stderr",
          "output_type": "stream",
          "text": [
            "[d3blocks] >INFO> Extracting files..\n",
            "[d3blocks] >INFO> Import dataset: [climate]\n"
          ]
        },
        {
          "data": {
            "text/html": [
              "<div>\n",
              "<style scoped>\n",
              "    .dataframe tbody tr th:only-of-type {\n",
              "        vertical-align: middle;\n",
              "    }\n",
              "\n",
              "    .dataframe tbody tr th {\n",
              "        vertical-align: top;\n",
              "    }\n",
              "\n",
              "    .dataframe thead th {\n",
              "        text-align: right;\n",
              "    }\n",
              "</style>\n",
              "<table border=\"1\" class=\"dataframe\">\n",
              "  <thead>\n",
              "    <tr style=\"text-align: right;\">\n",
              "      <th></th>\n",
              "      <th>date</th>\n",
              "      <th>meantemp</th>\n",
              "      <th>humidity</th>\n",
              "      <th>wind_speed</th>\n",
              "      <th>meanpressure</th>\n",
              "    </tr>\n",
              "  </thead>\n",
              "  <tbody>\n",
              "    <tr>\n",
              "      <th>0</th>\n",
              "      <td>2017-01-01</td>\n",
              "      <td>15.913043</td>\n",
              "      <td>85.869565</td>\n",
              "      <td>2.743478</td>\n",
              "      <td>59.000000</td>\n",
              "    </tr>\n",
              "    <tr>\n",
              "      <th>1</th>\n",
              "      <td>2017-01-02</td>\n",
              "      <td>18.500000</td>\n",
              "      <td>77.222222</td>\n",
              "      <td>2.894444</td>\n",
              "      <td>1018.277778</td>\n",
              "    </tr>\n",
              "    <tr>\n",
              "      <th>2</th>\n",
              "      <td>2017-01-03</td>\n",
              "      <td>17.111111</td>\n",
              "      <td>81.888889</td>\n",
              "      <td>4.016667</td>\n",
              "      <td>1018.333333</td>\n",
              "    </tr>\n",
              "    <tr>\n",
              "      <th>3</th>\n",
              "      <td>2017-01-04</td>\n",
              "      <td>18.700000</td>\n",
              "      <td>70.050000</td>\n",
              "      <td>4.545000</td>\n",
              "      <td>1015.700000</td>\n",
              "    </tr>\n",
              "    <tr>\n",
              "      <th>4</th>\n",
              "      <td>2017-01-05</td>\n",
              "      <td>18.388889</td>\n",
              "      <td>74.944444</td>\n",
              "      <td>3.300000</td>\n",
              "      <td>1014.333333</td>\n",
              "    </tr>\n",
              "  </tbody>\n",
              "</table>\n",
              "</div>"
            ],
            "text/plain": [
              "         date   meantemp   humidity  wind_speed  meanpressure\n",
              "0  2017-01-01  15.913043  85.869565    2.743478     59.000000\n",
              "1  2017-01-02  18.500000  77.222222    2.894444   1018.277778\n",
              "2  2017-01-03  17.111111  81.888889    4.016667   1018.333333\n",
              "3  2017-01-04  18.700000  70.050000    4.545000   1015.700000\n",
              "4  2017-01-05  18.388889  74.944444    3.300000   1014.333333"
            ]
          },
          "execution_count": 106,
          "metadata": {},
          "output_type": "execute_result"
        }
      ],
      "source": [
        "df = d3.import_example(\"climate\")\n",
        "\n",
        "df.head()"
      ]
    },
    {
      "cell_type": "code",
      "execution_count": 108,
      "metadata": {},
      "outputs": [
        {
          "name": "stderr",
          "output_type": "stream",
          "text": [
            "[d3blocks] >INFO> Initializing [Timeseries]\n",
            "[d3blocks] >INFO> filepath is set to [p:\\Programming\\WD\\lab_10\\timeseries.html]\n",
            "[d3blocks] >INFO> Convert to Frame.\n",
            "[d3blocks] >INFO> Node properties are set.\n",
            "[d3blocks] >INFO> Edge properties are set.\n",
            "[d3blocks] >INFO> File already exists and will be overwritten: [p:\\Programming\\WD\\lab_10\\timeseries.html]\n",
            "[d3blocks] >INFO> Open browser: p:\\Programming\\WD\\lab_10\\timeseries.html\n"
          ]
        }
      ],
      "source": [
        "d3.timeseries(df, datetime='date', dt_format=\"%Y-%m-%d %H:%M:%S\", fontsize=11, filepath='./timeseries.html',cmap='tab20')"
      ]
    },
    {
      "cell_type": "code",
      "execution_count": 90,
      "metadata": {},
      "outputs": [
        {
          "name": "stderr",
          "output_type": "stream",
          "text": [
            "[d3blocks] >INFO> Cleaning edge_properties and config parameters..\n",
            "[d3blocks] >INFO> Initializing [Movingbubbles]\n",
            "[d3blocks] >INFO> filepath is set to [p:\\Programming\\WD\\lab_10\\movingbubbles.html]\n",
            "[d3blocks] >INFO> Convert to Frame.\n",
            "[d3blocks] >INFO> Node properties are set.\n",
            "[d3blocks] >INFO> Standardizing input dataframe using method: [None].\n",
            "C:\\Users\\adria\\AppData\\Local\\Packages\\PythonSoftwareFoundation.Python.3.10_qbz5n2kfra8p0\\LocalCache\\local-packages\\Python310\\site-packages\\d3blocks\\movingbubbles\\Movingbubbles.py:479: FutureWarning: In a future version, `df.iloc[:, i] = newvals` will attempt to set the values inplace instead of always setting a new array. To retain the old behavior, use either `df[df.columns[i]] = newvals` or, if columns are non-unique, `df.isetitem(i, newvals)`\n",
            "  df.loc[Iloc, 'delta'] = df.loc[Iloc, 'delta'] + dt.timedelta(seconds=60)\n",
            "[d3blocks] >INFO> Set all nodes to size: 5\n",
            "[d3blocks] >INFO> Edge properties are set.\n"
          ]
        },
        {
          "name": "stdout",
          "output_type": "stream",
          "text": [
            "[colourmap]> Warning: Colormap [Set1] can not create [501] unique colors! Available unique colors: [9].\n"
          ]
        },
        {
          "name": "stderr",
          "output_type": "stream",
          "text": [
            "[d3blocks] >INFO> File already exists and will be overwritten: [p:\\Programming\\WD\\lab_10\\movingbubbles.html]\n",
            "[d3blocks] >INFO> Open browser: p:\\Programming\\WD\\lab_10\\movingbubbles.html\n"
          ]
        }
      ],
      "source": [
        "df = d3.import_example('random_time', n=10000, c=500, date_start='1-1-2000 00:10:15', date_stop=\"1-1-2001 23:59:59\")\n",
        "d3.movingbubbles(df,\n",
        "                datetime='datetime',\n",
        "                sample_id='sample_id',\n",
        "                standardize=None,\n",
        "                speed={\"slow\": 6000, \"medium\": 4000, \"fast\": 2000},\n",
        "                cmap='Set2',\n",
        "                filepath='./movingbubbles.html')"
      ]
    },
    {
      "cell_type": "code",
      "execution_count": 91,
      "metadata": {},
      "outputs": [
        {
          "name": "stderr",
          "output_type": "stream",
          "text": [
            "[d3blocks] >INFO> filepath is set to [p:\\Programming\\WD\\lab_10\\imageslider.html]\n",
            "[d3blocks] >INFO> img_before: https://erdogant.github.io/datasets/images/unsplash_before.jpg\n",
            "[d3blocks] >INFO> img_after: https://erdogant.github.io/datasets/images/unsplash_after.jpg\n",
            "[d3blocks] >INFO> File already exists and will be overwritten: [p:\\Programming\\WD\\lab_10\\imageslider.html]\n"
          ]
        },
        {
          "name": "stdout",
          "output_type": "stream",
          "text": [
            "https://erdogant.github.io/datasets/images/unsplash_before.jpg\n",
            "https://erdogant.github.io/datasets/images/unsplash_after.jpg\n"
          ]
        },
        {
          "name": "stderr",
          "output_type": "stream",
          "text": [
            "[d3blocks] >INFO> Open browser: p:\\Programming\\WD\\lab_10\\imageslider.html\n"
          ]
        }
      ],
      "source": [
        "img_before, img_after = d3.import_example('unsplash')\n",
        "\n",
        "print(img_before)\n",
        "\n",
        "print(img_after)\n",
        "\n",
        "d3.imageslider(img_before, img_after, filepath=\"./imageslider.html\")"
      ]
    },
    {
      "cell_type": "code",
      "execution_count": 92,
      "metadata": {},
      "outputs": [
        {
          "name": "stderr",
          "output_type": "stream",
          "text": [
            "[d3blocks] >INFO> Extracting files..\n",
            "[d3blocks] >INFO> Import dataset: [cancer]\n"
          ]
        },
        {
          "data": {
            "text/html": [
              "<div>\n",
              "<style scoped>\n",
              "    .dataframe tbody tr th:only-of-type {\n",
              "        vertical-align: middle;\n",
              "    }\n",
              "\n",
              "    .dataframe tbody tr th {\n",
              "        vertical-align: top;\n",
              "    }\n",
              "\n",
              "    .dataframe thead th {\n",
              "        text-align: right;\n",
              "    }\n",
              "</style>\n",
              "<table border=\"1\" class=\"dataframe\">\n",
              "  <thead>\n",
              "    <tr style=\"text-align: right;\">\n",
              "      <th></th>\n",
              "      <th>x</th>\n",
              "      <th>y</th>\n",
              "      <th>age</th>\n",
              "      <th>sex</th>\n",
              "      <th>survival_months</th>\n",
              "      <th>death_indicator</th>\n",
              "      <th>labels</th>\n",
              "      <th>PC1</th>\n",
              "      <th>PC2</th>\n",
              "    </tr>\n",
              "    <tr>\n",
              "      <th>labels</th>\n",
              "      <th></th>\n",
              "      <th></th>\n",
              "      <th></th>\n",
              "      <th></th>\n",
              "      <th></th>\n",
              "      <th></th>\n",
              "      <th></th>\n",
              "      <th></th>\n",
              "      <th></th>\n",
              "    </tr>\n",
              "  </thead>\n",
              "  <tbody>\n",
              "    <tr>\n",
              "      <th>acc</th>\n",
              "      <td>37.204296</td>\n",
              "      <td>24.162813</td>\n",
              "      <td>58.0</td>\n",
              "      <td>male</td>\n",
              "      <td>44.517454</td>\n",
              "      <td>0.0</td>\n",
              "      <td>acc</td>\n",
              "      <td>49.233458</td>\n",
              "      <td>14.496507</td>\n",
              "    </tr>\n",
              "    <tr>\n",
              "      <th>acc</th>\n",
              "      <td>37.093090</td>\n",
              "      <td>23.423557</td>\n",
              "      <td>44.0</td>\n",
              "      <td>female</td>\n",
              "      <td>55.096509</td>\n",
              "      <td>0.0</td>\n",
              "      <td>acc</td>\n",
              "      <td>46.327987</td>\n",
              "      <td>14.464466</td>\n",
              "    </tr>\n",
              "    <tr>\n",
              "      <th>acc</th>\n",
              "      <td>36.806297</td>\n",
              "      <td>23.444910</td>\n",
              "      <td>23.0</td>\n",
              "      <td>female</td>\n",
              "      <td>63.802875</td>\n",
              "      <td>1.0</td>\n",
              "      <td>acc</td>\n",
              "      <td>46.567928</td>\n",
              "      <td>13.480130</td>\n",
              "    </tr>\n",
              "    <tr>\n",
              "      <th>acc</th>\n",
              "      <td>38.067886</td>\n",
              "      <td>24.411770</td>\n",
              "      <td>30.0</td>\n",
              "      <td>male</td>\n",
              "      <td>11.991786</td>\n",
              "      <td>0.0</td>\n",
              "      <td>acc</td>\n",
              "      <td>63.624679</td>\n",
              "      <td>1.874059</td>\n",
              "    </tr>\n",
              "    <tr>\n",
              "      <th>acc</th>\n",
              "      <td>36.791195</td>\n",
              "      <td>21.715324</td>\n",
              "      <td>29.0</td>\n",
              "      <td>female</td>\n",
              "      <td>79.770021</td>\n",
              "      <td>1.0</td>\n",
              "      <td>acc</td>\n",
              "      <td>41.746708</td>\n",
              "      <td>37.533621</td>\n",
              "    </tr>\n",
              "  </tbody>\n",
              "</table>\n",
              "</div>"
            ],
            "text/plain": [
              "                x          y   age     sex  survival_months  death_indicator  \\\n",
              "labels                                                                         \n",
              "acc     37.204296  24.162813  58.0    male        44.517454              0.0   \n",
              "acc     37.093090  23.423557  44.0  female        55.096509              0.0   \n",
              "acc     36.806297  23.444910  23.0  female        63.802875              1.0   \n",
              "acc     38.067886  24.411770  30.0    male        11.991786              0.0   \n",
              "acc     36.791195  21.715324  29.0  female        79.770021              1.0   \n",
              "\n",
              "       labels        PC1        PC2  \n",
              "labels                               \n",
              "acc       acc  49.233458  14.496507  \n",
              "acc       acc  46.327987  14.464466  \n",
              "acc       acc  46.567928  13.480130  \n",
              "acc       acc  63.624679   1.874059  \n",
              "acc       acc  41.746708  37.533621  "
            ]
          },
          "execution_count": 92,
          "metadata": {},
          "output_type": "execute_result"
        }
      ],
      "source": [
        "df = d3.import_example('cancer')\n",
        "\n",
        "df.head()"
      ]
    },
    {
      "cell_type": "code",
      "execution_count": 93,
      "metadata": {},
      "outputs": [
        {
          "name": "stderr",
          "output_type": "stream",
          "text": [
            "[d3blocks] >INFO> Cleaning edge_properties and config parameters..\n",
            "[d3blocks] >INFO> Initializing [Scatter]\n",
            "[d3blocks] >INFO> filepath is set to [p:\\Programming\\WD\\lab_10\\scatter.html]\n",
            "[d3blocks] >INFO> Scaling xy-coordinates.\n",
            "[d3blocks] >INFO> [12] sizes are <0 and set to 0.\n",
            "[d3blocks] >INFO> Convert to Frame.\n",
            "[d3blocks] >INFO> Edge properties are set.\n",
            "[d3blocks] >INFO> File already exists and will be overwritten: [p:\\Programming\\WD\\lab_10\\scatter.html]\n",
            "[d3blocks] >INFO> Open browser: p:\\Programming\\WD\\lab_10\\scatter.html\n"
          ]
        }
      ],
      "source": [
        "tooltip = df['labels'].values + ' <br /> Survival: ' + df['survival_months'].astype(str).str[0:4].values\n",
        "size = df['survival_months'].fillna(1).values / 10\n",
        "\n",
        "d3.scatter(df['x'].values,\n",
        "          df['y'].values,\n",
        "          x1=df['PC1'].values,\n",
        "          y1=df['PC2'].values,\n",
        "          scale=True,\n",
        "          label_radio=['tSNE', 'PCA'],\n",
        "          size=size,\n",
        "          color=df['labels'].values,\n",
        "          stroke='#fff000',\n",
        "           opacity=0.7,\n",
        "          tooltip=tooltip,\n",
        "          cmap='Set1',\n",
        "          filepath='./scatter.html')"
      ]
    },
    {
      "cell_type": "code",
      "execution_count": 94,
      "metadata": {},
      "outputs": [
        {
          "name": "stderr",
          "output_type": "stream",
          "text": [
            "[d3blocks] >INFO> Extracting files..\n",
            "[d3blocks] >INFO> Import dataset: [cancer]\n"
          ]
        },
        {
          "data": {
            "text/html": [
              "<div>\n",
              "<style scoped>\n",
              "    .dataframe tbody tr th:only-of-type {\n",
              "        vertical-align: middle;\n",
              "    }\n",
              "\n",
              "    .dataframe tbody tr th {\n",
              "        vertical-align: top;\n",
              "    }\n",
              "\n",
              "    .dataframe thead th {\n",
              "        text-align: right;\n",
              "    }\n",
              "</style>\n",
              "<table border=\"1\" class=\"dataframe\">\n",
              "  <thead>\n",
              "    <tr style=\"text-align: right;\">\n",
              "      <th></th>\n",
              "      <th>x</th>\n",
              "      <th>y</th>\n",
              "      <th>age</th>\n",
              "      <th>sex</th>\n",
              "      <th>survival_months</th>\n",
              "      <th>death_indicator</th>\n",
              "      <th>labels</th>\n",
              "      <th>PC1</th>\n",
              "      <th>PC2</th>\n",
              "    </tr>\n",
              "    <tr>\n",
              "      <th>labels</th>\n",
              "      <th></th>\n",
              "      <th></th>\n",
              "      <th></th>\n",
              "      <th></th>\n",
              "      <th></th>\n",
              "      <th></th>\n",
              "      <th></th>\n",
              "      <th></th>\n",
              "      <th></th>\n",
              "    </tr>\n",
              "  </thead>\n",
              "  <tbody>\n",
              "    <tr>\n",
              "      <th>acc</th>\n",
              "      <td>37.204296</td>\n",
              "      <td>24.162813</td>\n",
              "      <td>58.0</td>\n",
              "      <td>male</td>\n",
              "      <td>44.517454</td>\n",
              "      <td>0.0</td>\n",
              "      <td>acc</td>\n",
              "      <td>49.233458</td>\n",
              "      <td>14.496507</td>\n",
              "    </tr>\n",
              "    <tr>\n",
              "      <th>acc</th>\n",
              "      <td>37.093090</td>\n",
              "      <td>23.423557</td>\n",
              "      <td>44.0</td>\n",
              "      <td>female</td>\n",
              "      <td>55.096509</td>\n",
              "      <td>0.0</td>\n",
              "      <td>acc</td>\n",
              "      <td>46.327987</td>\n",
              "      <td>14.464466</td>\n",
              "    </tr>\n",
              "    <tr>\n",
              "      <th>acc</th>\n",
              "      <td>36.806297</td>\n",
              "      <td>23.444910</td>\n",
              "      <td>23.0</td>\n",
              "      <td>female</td>\n",
              "      <td>63.802875</td>\n",
              "      <td>1.0</td>\n",
              "      <td>acc</td>\n",
              "      <td>46.567928</td>\n",
              "      <td>13.480130</td>\n",
              "    </tr>\n",
              "    <tr>\n",
              "      <th>acc</th>\n",
              "      <td>38.067886</td>\n",
              "      <td>24.411770</td>\n",
              "      <td>30.0</td>\n",
              "      <td>male</td>\n",
              "      <td>11.991786</td>\n",
              "      <td>0.0</td>\n",
              "      <td>acc</td>\n",
              "      <td>63.624679</td>\n",
              "      <td>1.874059</td>\n",
              "    </tr>\n",
              "    <tr>\n",
              "      <th>acc</th>\n",
              "      <td>36.791195</td>\n",
              "      <td>21.715324</td>\n",
              "      <td>29.0</td>\n",
              "      <td>female</td>\n",
              "      <td>79.770021</td>\n",
              "      <td>1.0</td>\n",
              "      <td>acc</td>\n",
              "      <td>41.746708</td>\n",
              "      <td>37.533621</td>\n",
              "    </tr>\n",
              "  </tbody>\n",
              "</table>\n",
              "</div>"
            ],
            "text/plain": [
              "                x          y   age     sex  survival_months  death_indicator  \\\n",
              "labels                                                                         \n",
              "acc     37.204296  24.162813  58.0    male        44.517454              0.0   \n",
              "acc     37.093090  23.423557  44.0  female        55.096509              0.0   \n",
              "acc     36.806297  23.444910  23.0  female        63.802875              1.0   \n",
              "acc     38.067886  24.411770  30.0    male        11.991786              0.0   \n",
              "acc     36.791195  21.715324  29.0  female        79.770021              1.0   \n",
              "\n",
              "       labels        PC1        PC2  \n",
              "labels                               \n",
              "acc       acc  49.233458  14.496507  \n",
              "acc       acc  46.327987  14.464466  \n",
              "acc       acc  46.567928  13.480130  \n",
              "acc       acc  63.624679   1.874059  \n",
              "acc       acc  41.746708  37.533621  "
            ]
          },
          "execution_count": 94,
          "metadata": {},
          "output_type": "execute_result"
        }
      ],
      "source": [
        "df = d3.import_example('cancer')\n",
        "\n",
        "df.head()"
      ]
    },
    {
      "cell_type": "code",
      "execution_count": 95,
      "metadata": {},
      "outputs": [
        {
          "name": "stderr",
          "output_type": "stream",
          "text": [
            "[d3blocks] >INFO> Cleaning edge_properties and config parameters..\n",
            "[d3blocks] >INFO> Initializing [Violin]\n",
            "[d3blocks] >INFO> filepath is set to [p:\\Programming\\WD\\lab_10\\violin.html]\n",
            "[d3blocks] >INFO> Removing [564] NaN values.\n",
            "[d3blocks] >INFO> Filter on: [acc|kich|brca|lgg|blca|coad|ov]\n",
            "[d3blocks] >INFO> Number of samples: 1881\n",
            "[d3blocks] >INFO> File already exists and will be overwritten: [p:\\Programming\\WD\\lab_10\\violin.html]\n",
            "[d3blocks] >INFO> Open browser: p:\\Programming\\WD\\lab_10\\violin.html\n"
          ]
        }
      ],
      "source": [
        "tooltip = df['labels'].values + ' <br /> Survival: ' + df['survival_months'].astype(str).values\n",
        "\n",
        "d3.violin(x=df['labels'].values,\n",
        "        y=df['age'].values,\n",
        "        color=df['labels'].values,\n",
        "        stroke='#fff000',\n",
        "        opacity=0.7,\n",
        "        tooltip=tooltip,\n",
        "        cmap='Set1',\n",
        "        bins=30,\n",
        "        size=df['survival_months'].values / 10,\n",
        "        x_order=['acc', 'kich', 'brca', 'lgg', 'blca', 'coad', 'ov'],\n",
        "        figsize=[None, None],\n",
        "        filepath='./violin.html')"
      ]
    },
    {
      "cell_type": "code",
      "execution_count": 102,
      "metadata": {},
      "outputs": [
        {
          "name": "stderr",
          "output_type": "stream",
          "text": [
            "[d3blocks] >INFO> filepath is set to [p:\\Programming\\WD\\lab_10\\particle.html]\n",
            "[d3blocks] >INFO> File already exists and will be overwritten: [p:\\Programming\\WD\\lab_10\\particle.html]\n",
            "[d3blocks] >INFO> Open browser: p:\\Programming\\WD\\lab_10\\particle.html\n"
          ]
        }
      ],
      "source": [
        "d3.particles('Wizualizacja', collision= 0.35, spacing=10, figsize=[1200, 500], filepath='./particle.html')"
      ]
    }
  ],
  "metadata": {
    "colab": {
      "provenance": []
    },
    "kernelspec": {
      "display_name": "Python 3.10.11 64-bit (microsoft store)",
      "language": "python",
      "name": "python3"
    },
    "language_info": {
      "codemirror_mode": {
        "name": "ipython",
        "version": 3
      },
      "file_extension": ".py",
      "mimetype": "text/x-python",
      "name": "python",
      "nbconvert_exporter": "python",
      "pygments_lexer": "ipython3",
      "version": "3.10.11"
    },
    "vscode": {
      "interpreter": {
        "hash": "d3f0d207b648d1175a3b2bbb912118d4848417bdf0b1a5227ab0916c63215186"
      }
    }
  },
  "nbformat": 4,
  "nbformat_minor": 0
}
