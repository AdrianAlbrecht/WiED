{
  "nbformat": 4,
  "nbformat_minor": 0,
  "metadata": {
    "colab": {
      "provenance": []
    },
    "kernelspec": {
      "name": "python3",
      "display_name": "Python 3"
    },
    "language_info": {
      "name": "python"
    }
  },
  "cells": [
    {
      "cell_type": "code",
      "execution_count": 62,
      "metadata": {
        "id": "DAubyzJ1_BSY"
      },
      "outputs": [],
      "source": [
        "from sklearn.feature_selection import RFE\n",
        "from sklearn.linear_model import LinearRegression\n",
        "import pandas as pd"
      ]
    },
    {
      "cell_type": "code",
      "source": [
        "data = pd.read_csv(\"VLagun_PhysChem_Years4.csv\")\n",
        "X = data.iloc[:,0:19]\n",
        "Y = data.iloc[:,:20]\n",
        "features_names = data.columns\n",
        "data.head()"
      ],
      "metadata": {
        "colab": {
          "base_uri": "https://localhost:8080/",
          "height": 206
        },
        "id": "RdMHqIZU_qpu",
        "outputId": "94384ece-b013-4ad7-931b-30df77c67371"
      },
      "execution_count": 63,
      "outputs": [
        {
          "output_type": "execute_result",
          "data": {
            "text/plain": [
              "        PSU     O2  temp.    SS   SRP   DOP     PP   NH4N   NO3N    DON  \\\n",
              "0  3.757624   9.46   18.3  52.0   3.5  11.7  185.0  0.039  0.022  0.551   \n",
              "1  3.504707   9.89   19.1  50.0   4.4  17.5  111.3  0.020  0.025  0.123   \n",
              "2  3.757624   9.66   18.1  59.0   3.2  22.8  103.4  0.016  0.008  0.582   \n",
              "3  3.107266  10.36   19.5  46.0   4.3  22.3   92.7  0.026  0.021  0.693   \n",
              "4  2.619498  11.56   19.0  42.0  11.7  30.3   73.2  0.022  0.048  0.383   \n",
              "\n",
              "      PN      TN/TP      Fe  SiO4Si    DOC    TPOC  Windspeedinsitu  Depth  \\\n",
              "0  0.759   6.848152  0.0121  2.3112  7.500  8.5650              3.5    3.3   \n",
              "1  1.181  10.127628  0.0136  2.1157  7.860  8.5200              0.0    3.6   \n",
              "2  0.576   9.134467  0.0368  2.2641  8.172  8.4915              1.0    3.4   \n",
              "3  0.689  11.978206  0.0172  2.2623  7.848  8.8320              0.0    2.9   \n",
              "4  1.006  12.664931  0.0237  2.2164  7.536  9.2400              0.0    3.0   \n",
              "\n",
              "    DINtoDIP  Years  \n",
              "0  17.428571      0  \n",
              "1  10.227273      0  \n",
              "2   7.500000      0  \n",
              "3  10.930233      0  \n",
              "4   5.982906      0  "
            ],
            "text/html": [
              "\n",
              "  <div id=\"df-22b6b766-3c8b-471e-a696-8fb5f0b3856f\">\n",
              "    <div class=\"colab-df-container\">\n",
              "      <div>\n",
              "<style scoped>\n",
              "    .dataframe tbody tr th:only-of-type {\n",
              "        vertical-align: middle;\n",
              "    }\n",
              "\n",
              "    .dataframe tbody tr th {\n",
              "        vertical-align: top;\n",
              "    }\n",
              "\n",
              "    .dataframe thead th {\n",
              "        text-align: right;\n",
              "    }\n",
              "</style>\n",
              "<table border=\"1\" class=\"dataframe\">\n",
              "  <thead>\n",
              "    <tr style=\"text-align: right;\">\n",
              "      <th></th>\n",
              "      <th>PSU</th>\n",
              "      <th>O2</th>\n",
              "      <th>temp.</th>\n",
              "      <th>SS</th>\n",
              "      <th>SRP</th>\n",
              "      <th>DOP</th>\n",
              "      <th>PP</th>\n",
              "      <th>NH4N</th>\n",
              "      <th>NO3N</th>\n",
              "      <th>DON</th>\n",
              "      <th>PN</th>\n",
              "      <th>TN/TP</th>\n",
              "      <th>Fe</th>\n",
              "      <th>SiO4Si</th>\n",
              "      <th>DOC</th>\n",
              "      <th>TPOC</th>\n",
              "      <th>Windspeedinsitu</th>\n",
              "      <th>Depth</th>\n",
              "      <th>DINtoDIP</th>\n",
              "      <th>Years</th>\n",
              "    </tr>\n",
              "  </thead>\n",
              "  <tbody>\n",
              "    <tr>\n",
              "      <th>0</th>\n",
              "      <td>3.757624</td>\n",
              "      <td>9.46</td>\n",
              "      <td>18.3</td>\n",
              "      <td>52.0</td>\n",
              "      <td>3.5</td>\n",
              "      <td>11.7</td>\n",
              "      <td>185.0</td>\n",
              "      <td>0.039</td>\n",
              "      <td>0.022</td>\n",
              "      <td>0.551</td>\n",
              "      <td>0.759</td>\n",
              "      <td>6.848152</td>\n",
              "      <td>0.0121</td>\n",
              "      <td>2.3112</td>\n",
              "      <td>7.500</td>\n",
              "      <td>8.5650</td>\n",
              "      <td>3.5</td>\n",
              "      <td>3.3</td>\n",
              "      <td>17.428571</td>\n",
              "      <td>0</td>\n",
              "    </tr>\n",
              "    <tr>\n",
              "      <th>1</th>\n",
              "      <td>3.504707</td>\n",
              "      <td>9.89</td>\n",
              "      <td>19.1</td>\n",
              "      <td>50.0</td>\n",
              "      <td>4.4</td>\n",
              "      <td>17.5</td>\n",
              "      <td>111.3</td>\n",
              "      <td>0.020</td>\n",
              "      <td>0.025</td>\n",
              "      <td>0.123</td>\n",
              "      <td>1.181</td>\n",
              "      <td>10.127628</td>\n",
              "      <td>0.0136</td>\n",
              "      <td>2.1157</td>\n",
              "      <td>7.860</td>\n",
              "      <td>8.5200</td>\n",
              "      <td>0.0</td>\n",
              "      <td>3.6</td>\n",
              "      <td>10.227273</td>\n",
              "      <td>0</td>\n",
              "    </tr>\n",
              "    <tr>\n",
              "      <th>2</th>\n",
              "      <td>3.757624</td>\n",
              "      <td>9.66</td>\n",
              "      <td>18.1</td>\n",
              "      <td>59.0</td>\n",
              "      <td>3.2</td>\n",
              "      <td>22.8</td>\n",
              "      <td>103.4</td>\n",
              "      <td>0.016</td>\n",
              "      <td>0.008</td>\n",
              "      <td>0.582</td>\n",
              "      <td>0.576</td>\n",
              "      <td>9.134467</td>\n",
              "      <td>0.0368</td>\n",
              "      <td>2.2641</td>\n",
              "      <td>8.172</td>\n",
              "      <td>8.4915</td>\n",
              "      <td>1.0</td>\n",
              "      <td>3.4</td>\n",
              "      <td>7.500000</td>\n",
              "      <td>0</td>\n",
              "    </tr>\n",
              "    <tr>\n",
              "      <th>3</th>\n",
              "      <td>3.107266</td>\n",
              "      <td>10.36</td>\n",
              "      <td>19.5</td>\n",
              "      <td>46.0</td>\n",
              "      <td>4.3</td>\n",
              "      <td>22.3</td>\n",
              "      <td>92.7</td>\n",
              "      <td>0.026</td>\n",
              "      <td>0.021</td>\n",
              "      <td>0.693</td>\n",
              "      <td>0.689</td>\n",
              "      <td>11.978206</td>\n",
              "      <td>0.0172</td>\n",
              "      <td>2.2623</td>\n",
              "      <td>7.848</td>\n",
              "      <td>8.8320</td>\n",
              "      <td>0.0</td>\n",
              "      <td>2.9</td>\n",
              "      <td>10.930233</td>\n",
              "      <td>0</td>\n",
              "    </tr>\n",
              "    <tr>\n",
              "      <th>4</th>\n",
              "      <td>2.619498</td>\n",
              "      <td>11.56</td>\n",
              "      <td>19.0</td>\n",
              "      <td>42.0</td>\n",
              "      <td>11.7</td>\n",
              "      <td>30.3</td>\n",
              "      <td>73.2</td>\n",
              "      <td>0.022</td>\n",
              "      <td>0.048</td>\n",
              "      <td>0.383</td>\n",
              "      <td>1.006</td>\n",
              "      <td>12.664931</td>\n",
              "      <td>0.0237</td>\n",
              "      <td>2.2164</td>\n",
              "      <td>7.536</td>\n",
              "      <td>9.2400</td>\n",
              "      <td>0.0</td>\n",
              "      <td>3.0</td>\n",
              "      <td>5.982906</td>\n",
              "      <td>0</td>\n",
              "    </tr>\n",
              "  </tbody>\n",
              "</table>\n",
              "</div>\n",
              "      <button class=\"colab-df-convert\" onclick=\"convertToInteractive('df-22b6b766-3c8b-471e-a696-8fb5f0b3856f')\"\n",
              "              title=\"Convert this dataframe to an interactive table.\"\n",
              "              style=\"display:none;\">\n",
              "        \n",
              "  <svg xmlns=\"http://www.w3.org/2000/svg\" height=\"24px\"viewBox=\"0 0 24 24\"\n",
              "       width=\"24px\">\n",
              "    <path d=\"M0 0h24v24H0V0z\" fill=\"none\"/>\n",
              "    <path d=\"M18.56 5.44l.94 2.06.94-2.06 2.06-.94-2.06-.94-.94-2.06-.94 2.06-2.06.94zm-11 1L8.5 8.5l.94-2.06 2.06-.94-2.06-.94L8.5 2.5l-.94 2.06-2.06.94zm10 10l.94 2.06.94-2.06 2.06-.94-2.06-.94-.94-2.06-.94 2.06-2.06.94z\"/><path d=\"M17.41 7.96l-1.37-1.37c-.4-.4-.92-.59-1.43-.59-.52 0-1.04.2-1.43.59L10.3 9.45l-7.72 7.72c-.78.78-.78 2.05 0 2.83L4 21.41c.39.39.9.59 1.41.59.51 0 1.02-.2 1.41-.59l7.78-7.78 2.81-2.81c.8-.78.8-2.07 0-2.86zM5.41 20L4 18.59l7.72-7.72 1.47 1.35L5.41 20z\"/>\n",
              "  </svg>\n",
              "      </button>\n",
              "      \n",
              "  <style>\n",
              "    .colab-df-container {\n",
              "      display:flex;\n",
              "      flex-wrap:wrap;\n",
              "      gap: 12px;\n",
              "    }\n",
              "\n",
              "    .colab-df-convert {\n",
              "      background-color: #E8F0FE;\n",
              "      border: none;\n",
              "      border-radius: 50%;\n",
              "      cursor: pointer;\n",
              "      display: none;\n",
              "      fill: #1967D2;\n",
              "      height: 32px;\n",
              "      padding: 0 0 0 0;\n",
              "      width: 32px;\n",
              "    }\n",
              "\n",
              "    .colab-df-convert:hover {\n",
              "      background-color: #E2EBFA;\n",
              "      box-shadow: 0px 1px 2px rgba(60, 64, 67, 0.3), 0px 1px 3px 1px rgba(60, 64, 67, 0.15);\n",
              "      fill: #174EA6;\n",
              "    }\n",
              "\n",
              "    [theme=dark] .colab-df-convert {\n",
              "      background-color: #3B4455;\n",
              "      fill: #D2E3FC;\n",
              "    }\n",
              "\n",
              "    [theme=dark] .colab-df-convert:hover {\n",
              "      background-color: #434B5C;\n",
              "      box-shadow: 0px 1px 3px 1px rgba(0, 0, 0, 0.15);\n",
              "      filter: drop-shadow(0px 1px 2px rgba(0, 0, 0, 0.3));\n",
              "      fill: #FFFFFF;\n",
              "    }\n",
              "  </style>\n",
              "\n",
              "      <script>\n",
              "        const buttonEl =\n",
              "          document.querySelector('#df-22b6b766-3c8b-471e-a696-8fb5f0b3856f button.colab-df-convert');\n",
              "        buttonEl.style.display =\n",
              "          google.colab.kernel.accessAllowed ? 'block' : 'none';\n",
              "\n",
              "        async function convertToInteractive(key) {\n",
              "          const element = document.querySelector('#df-22b6b766-3c8b-471e-a696-8fb5f0b3856f');\n",
              "          const dataTable =\n",
              "            await google.colab.kernel.invokeFunction('convertToInteractive',\n",
              "                                                     [key], {});\n",
              "          if (!dataTable) return;\n",
              "\n",
              "          const docLinkHtml = 'Like what you see? Visit the ' +\n",
              "            '<a target=\"_blank\" href=https://colab.research.google.com/notebooks/data_table.ipynb>data table notebook</a>'\n",
              "            + ' to learn more about interactive tables.';\n",
              "          element.innerHTML = '';\n",
              "          dataTable['output_type'] = 'display_data';\n",
              "          await google.colab.output.renderOutput(dataTable, element);\n",
              "          const docLink = document.createElement('div');\n",
              "          docLink.innerHTML = docLinkHtml;\n",
              "          element.appendChild(docLink);\n",
              "        }\n",
              "      </script>\n",
              "    </div>\n",
              "  </div>\n",
              "  "
            ]
          },
          "metadata": {},
          "execution_count": 63
        }
      ]
    },
    {
      "cell_type": "code",
      "source": [
        "data.shape"
      ],
      "metadata": {
        "colab": {
          "base_uri": "https://localhost:8080/"
        },
        "id": "x7j51APu_9vZ",
        "outputId": "6eb4e506-7e24-4c22-e300-fd529a558fe4"
      },
      "execution_count": 64,
      "outputs": [
        {
          "output_type": "execute_result",
          "data": {
            "text/plain": [
              "(120, 20)"
            ]
          },
          "metadata": {},
          "execution_count": 64
        }
      ]
    },
    {
      "cell_type": "code",
      "source": [
        "from sklearn.ensemble import RandomForestRegressor\n",
        "import numpy as np"
      ],
      "metadata": {
        "id": "teGchtwOARRF"
      },
      "execution_count": 65,
      "outputs": []
    },
    {
      "cell_type": "code",
      "source": [
        "rf = RandomForestRegressor(n_estimators= 100, random_state=42)\n",
        "\n",
        "rf.fit(X,Y)\n",
        "\n",
        "importances = rf.feature_importances_\n",
        "\n",
        "for feature, importance in zip(X.columns, importances):\n",
        "  np.argsort(importance)\n",
        "  print(feature, importance)"
      ],
      "metadata": {
        "colab": {
          "base_uri": "https://localhost:8080/"
        },
        "id": "LqhU3nuOAcL_",
        "outputId": "c6afbd01-5368-40aa-c018-28acef659f0e"
      },
      "execution_count": 66,
      "outputs": [
        {
          "output_type": "stream",
          "name": "stdout",
          "text": [
            "PSU 0.010096722266383125\n",
            "O2 0.009653803029991326\n",
            "temp. 0.010816781711131042\n",
            "SS 0.1803669841903031\n",
            "SRP 0.02166841943331176\n",
            "DOP 0.051093251115369484\n",
            "PP 0.61548778062501\n",
            "NH4N 0.006135261773155234\n",
            "NO3N 0.00709329192252059\n",
            "DON 0.006560546465375157\n",
            "PN 0.008649730243208318\n",
            "TN/TP 0.0044068273967890126\n",
            "Fe 0.006773212319734357\n",
            "SiO4Si 0.006994303779796534\n",
            "DOC 0.006414404073294594\n",
            "TPOC 0.015524016465321021\n",
            "Windspeedinsitu 0.00521031638170925\n",
            "Depth 0.007567304133271214\n",
            "DINtoDIP 0.01948704267432502\n"
          ]
        }
      ]
    },
    {
      "cell_type": "code",
      "source": [
        "importances = list(rf.feature_importances_)\n",
        "\n",
        "feature_importances = [(feature, round(importance,3)) for feature, importance in zip(X, importances)]\n",
        "\n",
        "feature_importances = sorted(feature_importances, key = lambda x: x[1], reverse = True)\n",
        "\n",
        "[print(f'Variable:{pair[0]:31} Importance: {pair[1]}') for pair in feature_importances];"
      ],
      "metadata": {
        "colab": {
          "base_uri": "https://localhost:8080/"
        },
        "id": "iCy9FcJYBB7K",
        "outputId": "a56a1443-6558-42fb-8500-10d82a565037"
      },
      "execution_count": 67,
      "outputs": [
        {
          "output_type": "stream",
          "name": "stdout",
          "text": [
            "Variable:PP                              Importance: 0.615\n",
            "Variable:SS                              Importance: 0.18\n",
            "Variable:DOP                             Importance: 0.051\n",
            "Variable:SRP                             Importance: 0.022\n",
            "Variable:DINtoDIP                        Importance: 0.019\n",
            "Variable:TPOC                            Importance: 0.016\n",
            "Variable:temp.                           Importance: 0.011\n",
            "Variable:PSU                             Importance: 0.01\n",
            "Variable:O2                              Importance: 0.01\n",
            "Variable:PN                              Importance: 0.009\n",
            "Variable:Depth                           Importance: 0.008\n",
            "Variable:NO3N                            Importance: 0.007\n",
            "Variable:DON                             Importance: 0.007\n",
            "Variable:Fe                              Importance: 0.007\n",
            "Variable:SiO4Si                          Importance: 0.007\n",
            "Variable:NH4N                            Importance: 0.006\n",
            "Variable:DOC                             Importance: 0.006\n",
            "Variable:Windspeedinsitu                 Importance: 0.005\n",
            "Variable:TN/TP                           Importance: 0.004\n"
          ]
        }
      ]
    },
    {
      "cell_type": "code",
      "source": [
        "%matplotlib inline\n",
        "\n",
        "import numpy as np\n",
        "import seaborn as sns\n",
        "import matplotlib.pyplot as plt\n",
        "from sklearn import model_selection, preprocessing, tree, metrics"
      ],
      "metadata": {
        "id": "Z5X2ij8FCJfR"
      },
      "execution_count": 68,
      "outputs": []
    },
    {
      "cell_type": "code",
      "source": [
        "estimator_rf = RandomForestRegressor(\n",
        "    n_jobs=1,\n",
        "    n_estimators=100,\n",
        "    random_state=42)"
      ],
      "metadata": {
        "id": "ef_DvAcuCema"
      },
      "execution_count": 69,
      "outputs": []
    },
    {
      "cell_type": "code",
      "source": [
        "estimator_rf.fit(X,Y)"
      ],
      "metadata": {
        "colab": {
          "base_uri": "https://localhost:8080/",
          "height": 75
        },
        "id": "BpTldQDfCtdA",
        "outputId": "e8857fdf-4efc-4d76-b59e-4c465d08d772"
      },
      "execution_count": 70,
      "outputs": [
        {
          "output_type": "execute_result",
          "data": {
            "text/plain": [
              "RandomForestRegressor(n_jobs=1, random_state=42)"
            ],
            "text/html": [
              "<style>#sk-container-id-5 {color: black;background-color: white;}#sk-container-id-5 pre{padding: 0;}#sk-container-id-5 div.sk-toggleable {background-color: white;}#sk-container-id-5 label.sk-toggleable__label {cursor: pointer;display: block;width: 100%;margin-bottom: 0;padding: 0.3em;box-sizing: border-box;text-align: center;}#sk-container-id-5 label.sk-toggleable__label-arrow:before {content: \"▸\";float: left;margin-right: 0.25em;color: #696969;}#sk-container-id-5 label.sk-toggleable__label-arrow:hover:before {color: black;}#sk-container-id-5 div.sk-estimator:hover label.sk-toggleable__label-arrow:before {color: black;}#sk-container-id-5 div.sk-toggleable__content {max-height: 0;max-width: 0;overflow: hidden;text-align: left;background-color: #f0f8ff;}#sk-container-id-5 div.sk-toggleable__content pre {margin: 0.2em;color: black;border-radius: 0.25em;background-color: #f0f8ff;}#sk-container-id-5 input.sk-toggleable__control:checked~div.sk-toggleable__content {max-height: 200px;max-width: 100%;overflow: auto;}#sk-container-id-5 input.sk-toggleable__control:checked~label.sk-toggleable__label-arrow:before {content: \"▾\";}#sk-container-id-5 div.sk-estimator input.sk-toggleable__control:checked~label.sk-toggleable__label {background-color: #d4ebff;}#sk-container-id-5 div.sk-label input.sk-toggleable__control:checked~label.sk-toggleable__label {background-color: #d4ebff;}#sk-container-id-5 input.sk-hidden--visually {border: 0;clip: rect(1px 1px 1px 1px);clip: rect(1px, 1px, 1px, 1px);height: 1px;margin: -1px;overflow: hidden;padding: 0;position: absolute;width: 1px;}#sk-container-id-5 div.sk-estimator {font-family: monospace;background-color: #f0f8ff;border: 1px dotted black;border-radius: 0.25em;box-sizing: border-box;margin-bottom: 0.5em;}#sk-container-id-5 div.sk-estimator:hover {background-color: #d4ebff;}#sk-container-id-5 div.sk-parallel-item::after {content: \"\";width: 100%;border-bottom: 1px solid gray;flex-grow: 1;}#sk-container-id-5 div.sk-label:hover label.sk-toggleable__label {background-color: #d4ebff;}#sk-container-id-5 div.sk-serial::before {content: \"\";position: absolute;border-left: 1px solid gray;box-sizing: border-box;top: 0;bottom: 0;left: 50%;z-index: 0;}#sk-container-id-5 div.sk-serial {display: flex;flex-direction: column;align-items: center;background-color: white;padding-right: 0.2em;padding-left: 0.2em;position: relative;}#sk-container-id-5 div.sk-item {position: relative;z-index: 1;}#sk-container-id-5 div.sk-parallel {display: flex;align-items: stretch;justify-content: center;background-color: white;position: relative;}#sk-container-id-5 div.sk-item::before, #sk-container-id-5 div.sk-parallel-item::before {content: \"\";position: absolute;border-left: 1px solid gray;box-sizing: border-box;top: 0;bottom: 0;left: 50%;z-index: -1;}#sk-container-id-5 div.sk-parallel-item {display: flex;flex-direction: column;z-index: 1;position: relative;background-color: white;}#sk-container-id-5 div.sk-parallel-item:first-child::after {align-self: flex-end;width: 50%;}#sk-container-id-5 div.sk-parallel-item:last-child::after {align-self: flex-start;width: 50%;}#sk-container-id-5 div.sk-parallel-item:only-child::after {width: 0;}#sk-container-id-5 div.sk-dashed-wrapped {border: 1px dashed gray;margin: 0 0.4em 0.5em 0.4em;box-sizing: border-box;padding-bottom: 0.4em;background-color: white;}#sk-container-id-5 div.sk-label label {font-family: monospace;font-weight: bold;display: inline-block;line-height: 1.2em;}#sk-container-id-5 div.sk-label-container {text-align: center;}#sk-container-id-5 div.sk-container {/* jupyter's `normalize.less` sets `[hidden] { display: none; }` but bootstrap.min.css set `[hidden] { display: none !important; }` so we also need the `!important` here to be able to override the default hidden behavior on the sphinx rendered scikit-learn.org. See: https://github.com/scikit-learn/scikit-learn/issues/21755 */display: inline-block !important;position: relative;}#sk-container-id-5 div.sk-text-repr-fallback {display: none;}</style><div id=\"sk-container-id-5\" class=\"sk-top-container\"><div class=\"sk-text-repr-fallback\"><pre>RandomForestRegressor(n_jobs=1, random_state=42)</pre><b>In a Jupyter environment, please rerun this cell to show the HTML representation or trust the notebook. <br />On GitHub, the HTML representation is unable to render, please try loading this page with nbviewer.org.</b></div><div class=\"sk-container\" hidden><div class=\"sk-item\"><div class=\"sk-estimator sk-toggleable\"><input class=\"sk-toggleable__control sk-hidden--visually\" id=\"sk-estimator-id-5\" type=\"checkbox\" checked><label for=\"sk-estimator-id-5\" class=\"sk-toggleable__label sk-toggleable__label-arrow\">RandomForestRegressor</label><div class=\"sk-toggleable__content\"><pre>RandomForestRegressor(n_jobs=1, random_state=42)</pre></div></div></div></div></div>"
            ]
          },
          "metadata": {},
          "execution_count": 70
        }
      ]
    },
    {
      "cell_type": "code",
      "source": [
        "feature_importance_df = pd.DataFrame(estimator_rf.feature_importances_, index= X.columns.values, columns=[\"Importance\"])\n",
        "feature_importance_df"
      ],
      "metadata": {
        "colab": {
          "base_uri": "https://localhost:8080/",
          "height": 645
        },
        "id": "Cbc_TGZrCzTm",
        "outputId": "a498a827-3f77-4767-d8b5-f15a7fc70f1b"
      },
      "execution_count": 71,
      "outputs": [
        {
          "output_type": "execute_result",
          "data": {
            "text/plain": [
              "                 Importance\n",
              "PSU                0.010097\n",
              "O2                 0.009654\n",
              "temp.              0.010817\n",
              "SS                 0.180367\n",
              "SRP                0.021668\n",
              "DOP                0.051093\n",
              "PP                 0.615488\n",
              "NH4N               0.006135\n",
              "NO3N               0.007093\n",
              "DON                0.006561\n",
              "PN                 0.008650\n",
              "TN/TP              0.004407\n",
              "Fe                 0.006773\n",
              "SiO4Si             0.006994\n",
              "DOC                0.006414\n",
              "TPOC               0.015524\n",
              "Windspeedinsitu    0.005210\n",
              "Depth              0.007567\n",
              "DINtoDIP           0.019487"
            ],
            "text/html": [
              "\n",
              "  <div id=\"df-cbc52b9d-82a5-46c1-be06-bb0007188de9\">\n",
              "    <div class=\"colab-df-container\">\n",
              "      <div>\n",
              "<style scoped>\n",
              "    .dataframe tbody tr th:only-of-type {\n",
              "        vertical-align: middle;\n",
              "    }\n",
              "\n",
              "    .dataframe tbody tr th {\n",
              "        vertical-align: top;\n",
              "    }\n",
              "\n",
              "    .dataframe thead th {\n",
              "        text-align: right;\n",
              "    }\n",
              "</style>\n",
              "<table border=\"1\" class=\"dataframe\">\n",
              "  <thead>\n",
              "    <tr style=\"text-align: right;\">\n",
              "      <th></th>\n",
              "      <th>Importance</th>\n",
              "    </tr>\n",
              "  </thead>\n",
              "  <tbody>\n",
              "    <tr>\n",
              "      <th>PSU</th>\n",
              "      <td>0.010097</td>\n",
              "    </tr>\n",
              "    <tr>\n",
              "      <th>O2</th>\n",
              "      <td>0.009654</td>\n",
              "    </tr>\n",
              "    <tr>\n",
              "      <th>temp.</th>\n",
              "      <td>0.010817</td>\n",
              "    </tr>\n",
              "    <tr>\n",
              "      <th>SS</th>\n",
              "      <td>0.180367</td>\n",
              "    </tr>\n",
              "    <tr>\n",
              "      <th>SRP</th>\n",
              "      <td>0.021668</td>\n",
              "    </tr>\n",
              "    <tr>\n",
              "      <th>DOP</th>\n",
              "      <td>0.051093</td>\n",
              "    </tr>\n",
              "    <tr>\n",
              "      <th>PP</th>\n",
              "      <td>0.615488</td>\n",
              "    </tr>\n",
              "    <tr>\n",
              "      <th>NH4N</th>\n",
              "      <td>0.006135</td>\n",
              "    </tr>\n",
              "    <tr>\n",
              "      <th>NO3N</th>\n",
              "      <td>0.007093</td>\n",
              "    </tr>\n",
              "    <tr>\n",
              "      <th>DON</th>\n",
              "      <td>0.006561</td>\n",
              "    </tr>\n",
              "    <tr>\n",
              "      <th>PN</th>\n",
              "      <td>0.008650</td>\n",
              "    </tr>\n",
              "    <tr>\n",
              "      <th>TN/TP</th>\n",
              "      <td>0.004407</td>\n",
              "    </tr>\n",
              "    <tr>\n",
              "      <th>Fe</th>\n",
              "      <td>0.006773</td>\n",
              "    </tr>\n",
              "    <tr>\n",
              "      <th>SiO4Si</th>\n",
              "      <td>0.006994</td>\n",
              "    </tr>\n",
              "    <tr>\n",
              "      <th>DOC</th>\n",
              "      <td>0.006414</td>\n",
              "    </tr>\n",
              "    <tr>\n",
              "      <th>TPOC</th>\n",
              "      <td>0.015524</td>\n",
              "    </tr>\n",
              "    <tr>\n",
              "      <th>Windspeedinsitu</th>\n",
              "      <td>0.005210</td>\n",
              "    </tr>\n",
              "    <tr>\n",
              "      <th>Depth</th>\n",
              "      <td>0.007567</td>\n",
              "    </tr>\n",
              "    <tr>\n",
              "      <th>DINtoDIP</th>\n",
              "      <td>0.019487</td>\n",
              "    </tr>\n",
              "  </tbody>\n",
              "</table>\n",
              "</div>\n",
              "      <button class=\"colab-df-convert\" onclick=\"convertToInteractive('df-cbc52b9d-82a5-46c1-be06-bb0007188de9')\"\n",
              "              title=\"Convert this dataframe to an interactive table.\"\n",
              "              style=\"display:none;\">\n",
              "        \n",
              "  <svg xmlns=\"http://www.w3.org/2000/svg\" height=\"24px\"viewBox=\"0 0 24 24\"\n",
              "       width=\"24px\">\n",
              "    <path d=\"M0 0h24v24H0V0z\" fill=\"none\"/>\n",
              "    <path d=\"M18.56 5.44l.94 2.06.94-2.06 2.06-.94-2.06-.94-.94-2.06-.94 2.06-2.06.94zm-11 1L8.5 8.5l.94-2.06 2.06-.94-2.06-.94L8.5 2.5l-.94 2.06-2.06.94zm10 10l.94 2.06.94-2.06 2.06-.94-2.06-.94-.94-2.06-.94 2.06-2.06.94z\"/><path d=\"M17.41 7.96l-1.37-1.37c-.4-.4-.92-.59-1.43-.59-.52 0-1.04.2-1.43.59L10.3 9.45l-7.72 7.72c-.78.78-.78 2.05 0 2.83L4 21.41c.39.39.9.59 1.41.59.51 0 1.02-.2 1.41-.59l7.78-7.78 2.81-2.81c.8-.78.8-2.07 0-2.86zM5.41 20L4 18.59l7.72-7.72 1.47 1.35L5.41 20z\"/>\n",
              "  </svg>\n",
              "      </button>\n",
              "      \n",
              "  <style>\n",
              "    .colab-df-container {\n",
              "      display:flex;\n",
              "      flex-wrap:wrap;\n",
              "      gap: 12px;\n",
              "    }\n",
              "\n",
              "    .colab-df-convert {\n",
              "      background-color: #E8F0FE;\n",
              "      border: none;\n",
              "      border-radius: 50%;\n",
              "      cursor: pointer;\n",
              "      display: none;\n",
              "      fill: #1967D2;\n",
              "      height: 32px;\n",
              "      padding: 0 0 0 0;\n",
              "      width: 32px;\n",
              "    }\n",
              "\n",
              "    .colab-df-convert:hover {\n",
              "      background-color: #E2EBFA;\n",
              "      box-shadow: 0px 1px 2px rgba(60, 64, 67, 0.3), 0px 1px 3px 1px rgba(60, 64, 67, 0.15);\n",
              "      fill: #174EA6;\n",
              "    }\n",
              "\n",
              "    [theme=dark] .colab-df-convert {\n",
              "      background-color: #3B4455;\n",
              "      fill: #D2E3FC;\n",
              "    }\n",
              "\n",
              "    [theme=dark] .colab-df-convert:hover {\n",
              "      background-color: #434B5C;\n",
              "      box-shadow: 0px 1px 3px 1px rgba(0, 0, 0, 0.15);\n",
              "      filter: drop-shadow(0px 1px 2px rgba(0, 0, 0, 0.3));\n",
              "      fill: #FFFFFF;\n",
              "    }\n",
              "  </style>\n",
              "\n",
              "      <script>\n",
              "        const buttonEl =\n",
              "          document.querySelector('#df-cbc52b9d-82a5-46c1-be06-bb0007188de9 button.colab-df-convert');\n",
              "        buttonEl.style.display =\n",
              "          google.colab.kernel.accessAllowed ? 'block' : 'none';\n",
              "\n",
              "        async function convertToInteractive(key) {\n",
              "          const element = document.querySelector('#df-cbc52b9d-82a5-46c1-be06-bb0007188de9');\n",
              "          const dataTable =\n",
              "            await google.colab.kernel.invokeFunction('convertToInteractive',\n",
              "                                                     [key], {});\n",
              "          if (!dataTable) return;\n",
              "\n",
              "          const docLinkHtml = 'Like what you see? Visit the ' +\n",
              "            '<a target=\"_blank\" href=https://colab.research.google.com/notebooks/data_table.ipynb>data table notebook</a>'\n",
              "            + ' to learn more about interactive tables.';\n",
              "          element.innerHTML = '';\n",
              "          dataTable['output_type'] = 'display_data';\n",
              "          await google.colab.output.renderOutput(dataTable, element);\n",
              "          const docLink = document.createElement('div');\n",
              "          docLink.innerHTML = docLinkHtml;\n",
              "          element.appendChild(docLink);\n",
              "        }\n",
              "      </script>\n",
              "    </div>\n",
              "  </div>\n",
              "  "
            ]
          },
          "metadata": {},
          "execution_count": 71
        }
      ]
    },
    {
      "cell_type": "code",
      "source": [
        "feature_importance_df.sort_values(by=\"Importance\", inplace=True, ascending= False)"
      ],
      "metadata": {
        "id": "nM9ynJYsDKCf"
      },
      "execution_count": 72,
      "outputs": []
    },
    {
      "cell_type": "code",
      "source": [
        "plt.figure(figsize =(15,15))\n",
        "sns.barplot(data=feature_importance_df, x=feature_importance_df.values.flatten(), y= feature_importance_df.index.values)"
      ],
      "metadata": {
        "colab": {
          "base_uri": "https://localhost:8080/",
          "height": 880
        },
        "id": "oGBRGKzJDXKD",
        "outputId": "a8ad8f2f-23fd-4dbc-a29b-2f96a9f77082"
      },
      "execution_count": 73,
      "outputs": [
        {
          "output_type": "execute_result",
          "data": {
            "text/plain": [
              "<Axes: >"
            ]
          },
          "metadata": {},
          "execution_count": 73
        },
        {
          "output_type": "display_data",
          "data": {
            "text/plain": [
              "<Figure size 1080x1080 with 1 Axes>"
            ],
            "image/png": "[encoded data removed]"
          },
          "metadata": {
            "needs_background": "light"
          }
        }
      ]
    },
    {
      "cell_type": "code",
      "source": [
        "%%shell\n",
        "jupyter nbconvert --to html ///content/Random_forest_big_data.ipynb"
      ],
      "metadata": {
        "colab": {
          "base_uri": "https://localhost:8080/"
        },
        "id": "6WauxclrFCP0",
        "outputId": "3044740f-6ae3-4278-f608-e07ae4987dfc"
      },
      "execution_count": 74,
      "outputs": [
        {
          "output_type": "stream",
          "name": "stdout",
          "text": [
            "[NbConvertApp] Converting notebook ///content/Random_forest_big_data.ipynb to html\n",
            "[NbConvertApp] Writing 687647 bytes to /content/Random_forest_big_data.html\n"
          ]
        },
        {
          "output_type": "execute_result",
          "data": {
            "text/plain": []
          },
          "metadata": {},
          "execution_count": 74
        }
      ]
    }
  ]
}