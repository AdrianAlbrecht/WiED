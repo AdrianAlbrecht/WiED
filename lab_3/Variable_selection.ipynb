{
  "nbformat": 4,
  "nbformat_minor": 0,
  "metadata": {
    "colab": {
      "provenance": []
    },
    "kernelspec": {
      "name": "python3",
      "display_name": "Python 3"
    },
    "language_info": {
      "name": "python"
    }
  },
  "cells": [
    {
      "cell_type": "code",
      "execution_count": 5,
      "metadata": {
        "id": "OQ9yjHPQ-zPo"
      },
      "outputs": [],
      "source": [
        "import numpy as np\n",
        "import pandas as pd\n",
        "import matplotlib.pyplot as plt\n",
        "import seaborn as sns\n",
        "sns.set(style=\"whitegrid\")\n",
        "import warnings\n",
        "warnings.filterwarnings('ignore')"
      ]
    },
    {
      "cell_type": "code",
      "source": [
        "from sklearn.datasets import load_iris\n",
        "feature_names = load_iris().feature_names\n",
        "X_data = pd.DataFrame(load_iris().data, columns= feature_names)\n",
        "Y_data = load_iris().target\n",
        "\n",
        "X_data.head()"
      ],
      "metadata": {
        "colab": {
          "base_uri": "https://localhost:8080/",
          "height": 206
        },
        "id": "0UIF7CZK_P4x",
        "outputId": "81c9072c-07a4-4fdc-a489-b1ce50d454f6"
      },
      "execution_count": 6,
      "outputs": [
        {
          "output_type": "execute_result",
          "data": {
            "text/plain": [
              "   sepal length (cm)  sepal width (cm)  petal length (cm)  petal width (cm)\n",
              "0                5.1               3.5                1.4               0.2\n",
              "1                4.9               3.0                1.4               0.2\n",
              "2                4.7               3.2                1.3               0.2\n",
              "3                4.6               3.1                1.5               0.2\n",
              "4                5.0               3.6                1.4               0.2"
            ],
            "text/html": [
              "\n",
              "  <div id=\"df-2a016010-6278-413c-8768-2eca10bb95f2\">\n",
              "    <div class=\"colab-df-container\">\n",
              "      <div>\n",
              "<style scoped>\n",
              "    .dataframe tbody tr th:only-of-type {\n",
              "        vertical-align: middle;\n",
              "    }\n",
              "\n",
              "    .dataframe tbody tr th {\n",
              "        vertical-align: top;\n",
              "    }\n",
              "\n",
              "    .dataframe thead th {\n",
              "        text-align: right;\n",
              "    }\n",
              "</style>\n",
              "<table border=\"1\" class=\"dataframe\">\n",
              "  <thead>\n",
              "    <tr style=\"text-align: right;\">\n",
              "      <th></th>\n",
              "      <th>sepal length (cm)</th>\n",
              "      <th>sepal width (cm)</th>\n",
              "      <th>petal length (cm)</th>\n",
              "      <th>petal width (cm)</th>\n",
              "    </tr>\n",
              "  </thead>\n",
              "  <tbody>\n",
              "    <tr>\n",
              "      <th>0</th>\n",
              "      <td>5.1</td>\n",
              "      <td>3.5</td>\n",
              "      <td>1.4</td>\n",
              "      <td>0.2</td>\n",
              "    </tr>\n",
              "    <tr>\n",
              "      <th>1</th>\n",
              "      <td>4.9</td>\n",
              "      <td>3.0</td>\n",
              "      <td>1.4</td>\n",
              "      <td>0.2</td>\n",
              "    </tr>\n",
              "    <tr>\n",
              "      <th>2</th>\n",
              "      <td>4.7</td>\n",
              "      <td>3.2</td>\n",
              "      <td>1.3</td>\n",
              "      <td>0.2</td>\n",
              "    </tr>\n",
              "    <tr>\n",
              "      <th>3</th>\n",
              "      <td>4.6</td>\n",
              "      <td>3.1</td>\n",
              "      <td>1.5</td>\n",
              "      <td>0.2</td>\n",
              "    </tr>\n",
              "    <tr>\n",
              "      <th>4</th>\n",
              "      <td>5.0</td>\n",
              "      <td>3.6</td>\n",
              "      <td>1.4</td>\n",
              "      <td>0.2</td>\n",
              "    </tr>\n",
              "  </tbody>\n",
              "</table>\n",
              "</div>\n",
              "      <button class=\"colab-df-convert\" onclick=\"convertToInteractive('df-2a016010-6278-413c-8768-2eca10bb95f2')\"\n",
              "              title=\"Convert this dataframe to an interactive table.\"\n",
              "              style=\"display:none;\">\n",
              "        \n",
              "  <svg xmlns=\"http://www.w3.org/2000/svg\" height=\"24px\"viewBox=\"0 0 24 24\"\n",
              "       width=\"24px\">\n",
              "    <path d=\"M0 0h24v24H0V0z\" fill=\"none\"/>\n",
              "    <path d=\"M18.56 5.44l.94 2.06.94-2.06 2.06-.94-2.06-.94-.94-2.06-.94 2.06-2.06.94zm-11 1L8.5 8.5l.94-2.06 2.06-.94-2.06-.94L8.5 2.5l-.94 2.06-2.06.94zm10 10l.94 2.06.94-2.06 2.06-.94-2.06-.94-.94-2.06-.94 2.06-2.06.94z\"/><path d=\"M17.41 7.96l-1.37-1.37c-.4-.4-.92-.59-1.43-.59-.52 0-1.04.2-1.43.59L10.3 9.45l-7.72 7.72c-.78.78-.78 2.05 0 2.83L4 21.41c.39.39.9.59 1.41.59.51 0 1.02-.2 1.41-.59l7.78-7.78 2.81-2.81c.8-.78.8-2.07 0-2.86zM5.41 20L4 18.59l7.72-7.72 1.47 1.35L5.41 20z\"/>\n",
              "  </svg>\n",
              "      </button>\n",
              "      \n",
              "  <style>\n",
              "    .colab-df-container {\n",
              "      display:flex;\n",
              "      flex-wrap:wrap;\n",
              "      gap: 12px;\n",
              "    }\n",
              "\n",
              "    .colab-df-convert {\n",
              "      background-color: #E8F0FE;\n",
              "      border: none;\n",
              "      border-radius: 50%;\n",
              "      cursor: pointer;\n",
              "      display: none;\n",
              "      fill: #1967D2;\n",
              "      height: 32px;\n",
              "      padding: 0 0 0 0;\n",
              "      width: 32px;\n",
              "    }\n",
              "\n",
              "    .colab-df-convert:hover {\n",
              "      background-color: #E2EBFA;\n",
              "      box-shadow: 0px 1px 2px rgba(60, 64, 67, 0.3), 0px 1px 3px 1px rgba(60, 64, 67, 0.15);\n",
              "      fill: #174EA6;\n",
              "    }\n",
              "\n",
              "    [theme=dark] .colab-df-convert {\n",
              "      background-color: #3B4455;\n",
              "      fill: #D2E3FC;\n",
              "    }\n",
              "\n",
              "    [theme=dark] .colab-df-convert:hover {\n",
              "      background-color: #434B5C;\n",
              "      box-shadow: 0px 1px 3px 1px rgba(0, 0, 0, 0.15);\n",
              "      filter: drop-shadow(0px 1px 2px rgba(0, 0, 0, 0.3));\n",
              "      fill: #FFFFFF;\n",
              "    }\n",
              "  </style>\n",
              "\n",
              "      <script>\n",
              "        const buttonEl =\n",
              "          document.querySelector('#df-2a016010-6278-413c-8768-2eca10bb95f2 button.colab-df-convert');\n",
              "        buttonEl.style.display =\n",
              "          google.colab.kernel.accessAllowed ? 'block' : 'none';\n",
              "\n",
              "        async function convertToInteractive(key) {\n",
              "          const element = document.querySelector('#df-2a016010-6278-413c-8768-2eca10bb95f2');\n",
              "          const dataTable =\n",
              "            await google.colab.kernel.invokeFunction('convertToInteractive',\n",
              "                                                     [key], {});\n",
              "          if (!dataTable) return;\n",
              "\n",
              "          const docLinkHtml = 'Like what you see? Visit the ' +\n",
              "            '<a target=\"_blank\" href=https://colab.research.google.com/notebooks/data_table.ipynb>data table notebook</a>'\n",
              "            + ' to learn more about interactive tables.';\n",
              "          element.innerHTML = '';\n",
              "          dataTable['output_type'] = 'display_data';\n",
              "          await google.colab.output.renderOutput(dataTable, element);\n",
              "          const docLink = document.createElement('div');\n",
              "          docLink.innerHTML = docLinkHtml;\n",
              "          element.appendChild(docLink);\n",
              "        }\n",
              "      </script>\n",
              "    </div>\n",
              "  </div>\n",
              "  "
            ]
          },
          "metadata": {},
          "execution_count": 6
        }
      ]
    },
    {
      "cell_type": "code",
      "source": [
        "from sklearn.feature_selection import f_classif\n",
        "f_value = f_classif(X_data, Y_data)\n",
        "for feature in zip(feature_names, f_value[0]):\n",
        "  print(feature)"
      ],
      "metadata": {
        "colab": {
          "base_uri": "https://localhost:8080/"
        },
        "id": "wqiVVMplAV0Z",
        "outputId": "55455243-5609-4940-d9f7-b91b7849e19b"
      },
      "execution_count": 7,
      "outputs": [
        {
          "output_type": "stream",
          "name": "stdout",
          "text": [
            "('sepal length (cm)', 119.26450218449871)\n",
            "('sepal width (cm)', 49.16004008961098)\n",
            "('petal length (cm)', 1180.1611822529776)\n",
            "('petal width (cm)', 960.0071468018025)\n"
          ]
        }
      ]
    },
    {
      "cell_type": "code",
      "source": [
        "plt.figure(figsize=(4,4))\n",
        "plt.bar(x=feature_names, height=f_value[0], color='tomato')\n",
        "plt.xticks(rotation=\"vertical\")\n",
        "plt.ylabel(\"F-value\")\n",
        "plt.title(\"F-value Comparison\")\n",
        "plt.show()"
      ],
      "metadata": {
        "colab": {
          "base_uri": "https://localhost:8080/",
          "height": 371
        },
        "id": "fCrExNRjA0Zq",
        "outputId": "115caea8-4a38-4256-ad5b-088cf3fcfbb0"
      },
      "execution_count": 8,
      "outputs": [
        {
          "output_type": "display_data",
          "data": {
            "text/plain": [
              "<Figure size 288x288 with 1 Axes>"
            ],
            "image/png": "[encoded data removed]"
          },
          "metadata": {}
        }
      ]
    },
    {
      "cell_type": "code",
      "source": [
        "from sklearn.feature_selection import VarianceThreshold\n",
        "selector = VarianceThreshold()\n",
        "selector.fit_transform(X_data)\n",
        "for feature in zip(feature_names, selector.variances_):\n",
        "  print(feature)"
      ],
      "metadata": {
        "colab": {
          "base_uri": "https://localhost:8080/"
        },
        "id": "xLTRzCoTBi8m",
        "outputId": "4de02f63-8ab7-4156-c6dd-fed186687440"
      },
      "execution_count": 9,
      "outputs": [
        {
          "output_type": "stream",
          "name": "stdout",
          "text": [
            "('sepal length (cm)', 0.6811222222222222)\n",
            "('sepal width (cm)', 0.1887128888888887)\n",
            "('petal length (cm)', 3.0955026666666674)\n",
            "('petal width (cm)', 0.5771328888888888)\n"
          ]
        }
      ]
    },
    {
      "cell_type": "code",
      "source": [
        "plt.figure(figsize=(4,4))\n",
        "plt.bar(x=feature_names, height=selector.variances_, color='tomato')\n",
        "plt.xticks(rotation=\"vertical\")\n",
        "plt.ylabel(\"Variance\")\n",
        "plt.title(\"Variance Comparison\")\n",
        "plt.show()"
      ],
      "metadata": {
        "colab": {
          "base_uri": "https://localhost:8080/",
          "height": 371
        },
        "id": "EUh9dmJ-B-et",
        "outputId": "a27b54e1-d93e-4673-c44a-cbf7ff2cd3cd"
      },
      "execution_count": 10,
      "outputs": [
        {
          "output_type": "display_data",
          "data": {
            "text/plain": [
              "<Figure size 288x288 with 1 Axes>"
            ],
            "image/png": "[encoded data removed]"
          },
          "metadata": {}
        }
      ]
    },
    {
      "cell_type": "code",
      "source": [
        "selector = VarianceThreshold(threshold = 0.2)\n",
        "X_data_new = selector.fit_transform(X_data)\n",
        "print(f\"Number of features before variance thresholding: {X_data.shape[1]}\")\n",
        "print(f\"Number of features after variance thresholding: {X_data_new.shape[1]}\")"
      ],
      "metadata": {
        "colab": {
          "base_uri": "https://localhost:8080/"
        },
        "id": "Dy39XTpMCY-8",
        "outputId": "128f2b50-b678-45d7-9cef-71f0241d4a8b"
      },
      "execution_count": 11,
      "outputs": [
        {
          "output_type": "stream",
          "name": "stdout",
          "text": [
            "Number of features before variance thresholding: 4\n",
            "Number of features after variance thresholding: 3\n"
          ]
        }
      ]
    },
    {
      "cell_type": "code",
      "source": [
        "from sklearn.feature_selection import mutual_info_classif\n",
        "\n",
        "MI_score = mutual_info_classif(X_data, Y_data, random_state=0)\n",
        "for feature in zip(feature_names, MI_score):\n",
        "  print(feature)"
      ],
      "metadata": {
        "colab": {
          "base_uri": "https://localhost:8080/"
        },
        "id": "tGqlnlVYDAmz",
        "outputId": "65cb908e-8c58-4461-a45c-ab2dbb09a4f8"
      },
      "execution_count": 12,
      "outputs": [
        {
          "output_type": "stream",
          "name": "stdout",
          "text": [
            "('sepal length (cm)', 0.4738732342805525)\n",
            "('sepal width (cm)', 0.28607227699171767)\n",
            "('petal length (cm)', 0.9895851732491787)\n",
            "('petal width (cm)', 0.9749379656705233)\n"
          ]
        }
      ]
    },
    {
      "cell_type": "code",
      "source": [
        "plt.figure(figsize=(4,4))\n",
        "plt.bar(x=feature_names, height=MI_score, color='tomato')\n",
        "plt.xticks(rotation=\"vertical\")\n",
        "plt.ylabel(\"Mutual Information Score\")\n",
        "plt.title(\"Mutual Information Score Comparison\")\n",
        "plt.show()"
      ],
      "metadata": {
        "colab": {
          "base_uri": "https://localhost:8080/",
          "height": 371
        },
        "id": "11RwKWIZEAhK",
        "outputId": "ed9b4aec-0e95-4e5c-8e53-5c4aa1e295fc"
      },
      "execution_count": 13,
      "outputs": [
        {
          "output_type": "display_data",
          "data": {
            "text/plain": [
              "<Figure size 288x288 with 1 Axes>"
            ],
            "image/png": "[encoded data removed]"
          },
          "metadata": {}
        }
      ]
    },
    {
      "cell_type": "code",
      "source": [
        "from sklearn.feature_selection import SelectKBest\n",
        "\n",
        "skb = SelectKBest(score_func = f_classif, k=2)\n",
        "X_data_new = skb.fit_transform(X_data, Y_data)\n",
        "\n",
        "print(f\"Number of features before selection: {X_data.shape[1]}\")\n",
        "print(f\"Number of features after selection: {X_data_new.shape[1]}\")"
      ],
      "metadata": {
        "colab": {
          "base_uri": "https://localhost:8080/"
        },
        "id": "vBqdcPYXEOYp",
        "outputId": "eff8f660-dd1a-47c3-fce3-51f70d3b59d3"
      },
      "execution_count": 14,
      "outputs": [
        {
          "output_type": "stream",
          "name": "stdout",
          "text": [
            "Number of features before selection: 4\n",
            "Number of features after selection: 2\n"
          ]
        }
      ]
    },
    {
      "cell_type": "code",
      "source": [
        "for feature_list_index in skb.get_support(indices=True):\n",
        "  print('- '+feature_names[feature_list_index])"
      ],
      "metadata": {
        "colab": {
          "base_uri": "https://localhost:8080/"
        },
        "id": "Vb4LaYCbEtrt",
        "outputId": "e7b3d6b8-6e18-4609-e934-35d70a1e6cb2"
      },
      "execution_count": 15,
      "outputs": [
        {
          "output_type": "stream",
          "name": "stdout",
          "text": [
            "- petal length (cm)\n",
            "- petal width (cm)\n"
          ]
        }
      ]
    },
    {
      "cell_type": "code",
      "source": [
        "from mlxtend.feature_selection import ExhaustiveFeatureSelector as EFS\n",
        "from sklearn.linear_model import LogisticRegression"
      ],
      "metadata": {
        "id": "V1e5K4G1FEMF"
      },
      "execution_count": 16,
      "outputs": []
    },
    {
      "cell_type": "code",
      "source": [
        "lr = LogisticRegression()\n",
        "efs = EFS(estimator=lr,\n",
        "          min_features=1,\n",
        "          max_features=4,\n",
        "          scoring=\"accuracy\",\n",
        "          cv=5)\n",
        "\n",
        "efs.fit(X_data, Y_data)\n",
        "\n",
        "print(f\"\\nBest accuracy: {efs.best_score_:.2f}\")\n",
        "print(f'Best subset (indices): {efs.best_idx_}')\n",
        "print(f'Best subset (corresponding names): {efs.best_feature_names_}')"
      ],
      "metadata": {
        "colab": {
          "base_uri": "https://localhost:8080/"
        },
        "id": "rWYGFGdtJdG8",
        "outputId": "57943193-7ae0-4454-ea84-c70d4a93fa6a"
      },
      "execution_count": 20,
      "outputs": [
        {
          "output_type": "stream",
          "name": "stderr",
          "text": [
            "Features: 15/15"
          ]
        },
        {
          "output_type": "stream",
          "name": "stdout",
          "text": [
            "\n",
            "Best accuracy: 0.97\n",
            "Best subset (indices): (0, 1, 2, 3)\n",
            "Best subset (corresponding names): ('sepal length (cm)', 'sepal width (cm)', 'petal length (cm)', 'petal width (cm)')\n"
          ]
        }
      ]
    },
    {
      "cell_type": "code",
      "source": [
        "X_data_new = efs.transform(X_data)\n",
        "\n",
        "print(f\"Number of features before transformation: {X_data.shape[1]}\")\n",
        "print(f\"Number of features after transformation: {X_data_new.shape[1]}\")"
      ],
      "metadata": {
        "colab": {
          "base_uri": "https://localhost:8080/"
        },
        "id": "tbMJROyiKkJ0",
        "outputId": "95978e9d-1308-4fad-b3e8-e7c56544d37f"
      },
      "execution_count": 21,
      "outputs": [
        {
          "output_type": "stream",
          "name": "stdout",
          "text": [
            "Number of features before transformation: 4\n",
            "Number of features after transformation: 4\n"
          ]
        }
      ]
    },
    {
      "cell_type": "code",
      "source": [
        "efs_results = pd.DataFrame.from_dict(efs.get_metric_dict()).T\n",
        "efs_results.sort_values(by=\"avg_score\", ascending= True, inplace=True)\n",
        "efs_results"
      ],
      "metadata": {
        "colab": {
          "base_uri": "https://localhost:8080/",
          "height": 520
        },
        "id": "kBcq0VUFKxxe",
        "outputId": "7ca80562-2e04-4886-bf97-c62007df6c61"
      },
      "execution_count": 23,
      "outputs": [
        {
          "output_type": "execute_result",
          "data": {
            "text/plain": [
              "     feature_idx                                          cv_scores avg_score  \\\n",
              "1           (1,)  [0.5333333333333333, 0.5666666666666667, 0.533...  0.566667   \n",
              "0           (0,)  [0.6666666666666666, 0.7333333333333333, 0.766...  0.753333   \n",
              "4         (0, 1)  [0.7333333333333333, 0.8333333333333334, 0.766...  0.813333   \n",
              "8         (1, 3)  [0.9333333333333333, 0.9666666666666667, 0.9, ...      0.94   \n",
              "11     (0, 1, 3)  [0.9, 0.9666666666666667, 0.9333333333333333, ...  0.946667   \n",
              "2           (2,)  [0.9333333333333333, 1.0, 0.9, 0.9333333333333...  0.953333   \n",
              "5         (0, 2)  [0.9333333333333333, 1.0, 0.9, 0.9333333333333...  0.953333   \n",
              "6         (0, 3)  [0.9333333333333333, 0.9666666666666667, 0.933...  0.953333   \n",
              "7         (1, 2)  [0.9333333333333333, 1.0, 0.9, 0.9333333333333...  0.953333   \n",
              "10     (0, 1, 2)  [0.9333333333333333, 1.0, 0.9, 0.9333333333333...  0.953333   \n",
              "3           (3,)  [1.0, 0.9666666666666667, 0.9, 0.9333333333333...      0.96   \n",
              "9         (2, 3)  [0.9666666666666667, 0.9666666666666667, 0.933...      0.96   \n",
              "12     (0, 2, 3)  [0.9666666666666667, 0.9666666666666667, 0.933...  0.966667   \n",
              "13     (1, 2, 3)  [0.9666666666666667, 0.9666666666666667, 0.933...  0.966667   \n",
              "14  (0, 1, 2, 3)  [0.9666666666666667, 1.0, 0.9333333333333333, ...  0.973333   \n",
              "\n",
              "                                        feature_names  ci_bound   std_dev  \\\n",
              "1                                 (sepal width (cm),)  0.046932  0.036515   \n",
              "0                                (sepal length (cm),)  0.069612   0.05416   \n",
              "4               (sepal length (cm), sepal width (cm))  0.069612   0.05416   \n",
              "8                (sepal width (cm), petal width (cm))  0.032061  0.024944   \n",
              "11  (sepal length (cm), sepal width (cm), petal wi...  0.043691  0.033993   \n",
              "2                                (petal length (cm),)  0.051412      0.04   \n",
              "5              (sepal length (cm), petal length (cm))  0.051412      0.04   \n",
              "6               (sepal length (cm), petal width (cm))  0.034274  0.026667   \n",
              "7               (sepal width (cm), petal length (cm))  0.051412      0.04   \n",
              "10  (sepal length (cm), sepal width (cm), petal le...  0.051412      0.04   \n",
              "3                                 (petal width (cm),)  0.049963  0.038873   \n",
              "9               (petal length (cm), petal width (cm))  0.032061  0.024944   \n",
              "12  (sepal length (cm), petal length (cm), petal w...  0.027096  0.021082   \n",
              "13  (sepal width (cm), petal length (cm), petal wi...  0.027096  0.021082   \n",
              "14  (sepal length (cm), sepal width (cm), petal le...  0.032061  0.024944   \n",
              "\n",
              "     std_err  \n",
              "1   0.018257  \n",
              "0    0.02708  \n",
              "4    0.02708  \n",
              "8   0.012472  \n",
              "11  0.016997  \n",
              "2       0.02  \n",
              "5       0.02  \n",
              "6   0.013333  \n",
              "7       0.02  \n",
              "10      0.02  \n",
              "3   0.019437  \n",
              "9   0.012472  \n",
              "12  0.010541  \n",
              "13  0.010541  \n",
              "14  0.012472  "
            ],
            "text/html": [
              "\n",
              "  <div id=\"df-35c495e6-4a17-44ef-a428-dabbe7e2c3fc\">\n",
              "    <div class=\"colab-df-container\">\n",
              "      <div>\n",
              "<style scoped>\n",
              "    .dataframe tbody tr th:only-of-type {\n",
              "        vertical-align: middle;\n",
              "    }\n",
              "\n",
              "    .dataframe tbody tr th {\n",
              "        vertical-align: top;\n",
              "    }\n",
              "\n",
              "    .dataframe thead th {\n",
              "        text-align: right;\n",
              "    }\n",
              "</style>\n",
              "<table border=\"1\" class=\"dataframe\">\n",
              "  <thead>\n",
              "    <tr style=\"text-align: right;\">\n",
              "      <th></th>\n",
              "      <th>feature_idx</th>\n",
              "      <th>cv_scores</th>\n",
              "      <th>avg_score</th>\n",
              "      <th>feature_names</th>\n",
              "      <th>ci_bound</th>\n",
              "      <th>std_dev</th>\n",
              "      <th>std_err</th>\n",
              "    </tr>\n",
              "  </thead>\n",
              "  <tbody>\n",
              "    <tr>\n",
              "      <th>1</th>\n",
              "      <td>(1,)</td>\n",
              "      <td>[0.5333333333333333, 0.5666666666666667, 0.533...</td>\n",
              "      <td>0.566667</td>\n",
              "      <td>(sepal width (cm),)</td>\n",
              "      <td>0.046932</td>\n",
              "      <td>0.036515</td>\n",
              "      <td>0.018257</td>\n",
              "    </tr>\n",
              "    <tr>\n",
              "      <th>0</th>\n",
              "      <td>(0,)</td>\n",
              "      <td>[0.6666666666666666, 0.7333333333333333, 0.766...</td>\n",
              "      <td>0.753333</td>\n",
              "      <td>(sepal length (cm),)</td>\n",
              "      <td>0.069612</td>\n",
              "      <td>0.05416</td>\n",
              "      <td>0.02708</td>\n",
              "    </tr>\n",
              "    <tr>\n",
              "      <th>4</th>\n",
              "      <td>(0, 1)</td>\n",
              "      <td>[0.7333333333333333, 0.8333333333333334, 0.766...</td>\n",
              "      <td>0.813333</td>\n",
              "      <td>(sepal length (cm), sepal width (cm))</td>\n",
              "      <td>0.069612</td>\n",
              "      <td>0.05416</td>\n",
              "      <td>0.02708</td>\n",
              "    </tr>\n",
              "    <tr>\n",
              "      <th>8</th>\n",
              "      <td>(1, 3)</td>\n",
              "      <td>[0.9333333333333333, 0.9666666666666667, 0.9, ...</td>\n",
              "      <td>0.94</td>\n",
              "      <td>(sepal width (cm), petal width (cm))</td>\n",
              "      <td>0.032061</td>\n",
              "      <td>0.024944</td>\n",
              "      <td>0.012472</td>\n",
              "    </tr>\n",
              "    <tr>\n",
              "      <th>11</th>\n",
              "      <td>(0, 1, 3)</td>\n",
              "      <td>[0.9, 0.9666666666666667, 0.9333333333333333, ...</td>\n",
              "      <td>0.946667</td>\n",
              "      <td>(sepal length (cm), sepal width (cm), petal wi...</td>\n",
              "      <td>0.043691</td>\n",
              "      <td>0.033993</td>\n",
              "      <td>0.016997</td>\n",
              "    </tr>\n",
              "    <tr>\n",
              "      <th>2</th>\n",
              "      <td>(2,)</td>\n",
              "      <td>[0.9333333333333333, 1.0, 0.9, 0.9333333333333...</td>\n",
              "      <td>0.953333</td>\n",
              "      <td>(petal length (cm),)</td>\n",
              "      <td>0.051412</td>\n",
              "      <td>0.04</td>\n",
              "      <td>0.02</td>\n",
              "    </tr>\n",
              "    <tr>\n",
              "      <th>5</th>\n",
              "      <td>(0, 2)</td>\n",
              "      <td>[0.9333333333333333, 1.0, 0.9, 0.9333333333333...</td>\n",
              "      <td>0.953333</td>\n",
              "      <td>(sepal length (cm), petal length (cm))</td>\n",
              "      <td>0.051412</td>\n",
              "      <td>0.04</td>\n",
              "      <td>0.02</td>\n",
              "    </tr>\n",
              "    <tr>\n",
              "      <th>6</th>\n",
              "      <td>(0, 3)</td>\n",
              "      <td>[0.9333333333333333, 0.9666666666666667, 0.933...</td>\n",
              "      <td>0.953333</td>\n",
              "      <td>(sepal length (cm), petal width (cm))</td>\n",
              "      <td>0.034274</td>\n",
              "      <td>0.026667</td>\n",
              "      <td>0.013333</td>\n",
              "    </tr>\n",
              "    <tr>\n",
              "      <th>7</th>\n",
              "      <td>(1, 2)</td>\n",
              "      <td>[0.9333333333333333, 1.0, 0.9, 0.9333333333333...</td>\n",
              "      <td>0.953333</td>\n",
              "      <td>(sepal width (cm), petal length (cm))</td>\n",
              "      <td>0.051412</td>\n",
              "      <td>0.04</td>\n",
              "      <td>0.02</td>\n",
              "    </tr>\n",
              "    <tr>\n",
              "      <th>10</th>\n",
              "      <td>(0, 1, 2)</td>\n",
              "      <td>[0.9333333333333333, 1.0, 0.9, 0.9333333333333...</td>\n",
              "      <td>0.953333</td>\n",
              "      <td>(sepal length (cm), sepal width (cm), petal le...</td>\n",
              "      <td>0.051412</td>\n",
              "      <td>0.04</td>\n",
              "      <td>0.02</td>\n",
              "    </tr>\n",
              "    <tr>\n",
              "      <th>3</th>\n",
              "      <td>(3,)</td>\n",
              "      <td>[1.0, 0.9666666666666667, 0.9, 0.9333333333333...</td>\n",
              "      <td>0.96</td>\n",
              "      <td>(petal width (cm),)</td>\n",
              "      <td>0.049963</td>\n",
              "      <td>0.038873</td>\n",
              "      <td>0.019437</td>\n",
              "    </tr>\n",
              "    <tr>\n",
              "      <th>9</th>\n",
              "      <td>(2, 3)</td>\n",
              "      <td>[0.9666666666666667, 0.9666666666666667, 0.933...</td>\n",
              "      <td>0.96</td>\n",
              "      <td>(petal length (cm), petal width (cm))</td>\n",
              "      <td>0.032061</td>\n",
              "      <td>0.024944</td>\n",
              "      <td>0.012472</td>\n",
              "    </tr>\n",
              "    <tr>\n",
              "      <th>12</th>\n",
              "      <td>(0, 2, 3)</td>\n",
              "      <td>[0.9666666666666667, 0.9666666666666667, 0.933...</td>\n",
              "      <td>0.966667</td>\n",
              "      <td>(sepal length (cm), petal length (cm), petal w...</td>\n",
              "      <td>0.027096</td>\n",
              "      <td>0.021082</td>\n",
              "      <td>0.010541</td>\n",
              "    </tr>\n",
              "    <tr>\n",
              "      <th>13</th>\n",
              "      <td>(1, 2, 3)</td>\n",
              "      <td>[0.9666666666666667, 0.9666666666666667, 0.933...</td>\n",
              "      <td>0.966667</td>\n",
              "      <td>(sepal width (cm), petal length (cm), petal wi...</td>\n",
              "      <td>0.027096</td>\n",
              "      <td>0.021082</td>\n",
              "      <td>0.010541</td>\n",
              "    </tr>\n",
              "    <tr>\n",
              "      <th>14</th>\n",
              "      <td>(0, 1, 2, 3)</td>\n",
              "      <td>[0.9666666666666667, 1.0, 0.9333333333333333, ...</td>\n",
              "      <td>0.973333</td>\n",
              "      <td>(sepal length (cm), sepal width (cm), petal le...</td>\n",
              "      <td>0.032061</td>\n",
              "      <td>0.024944</td>\n",
              "      <td>0.012472</td>\n",
              "    </tr>\n",
              "  </tbody>\n",
              "</table>\n",
              "</div>\n",
              "      <button class=\"colab-df-convert\" onclick=\"convertToInteractive('df-35c495e6-4a17-44ef-a428-dabbe7e2c3fc')\"\n",
              "              title=\"Convert this dataframe to an interactive table.\"\n",
              "              style=\"display:none;\">\n",
              "        \n",
              "  <svg xmlns=\"http://www.w3.org/2000/svg\" height=\"24px\"viewBox=\"0 0 24 24\"\n",
              "       width=\"24px\">\n",
              "    <path d=\"M0 0h24v24H0V0z\" fill=\"none\"/>\n",
              "    <path d=\"M18.56 5.44l.94 2.06.94-2.06 2.06-.94-2.06-.94-.94-2.06-.94 2.06-2.06.94zm-11 1L8.5 8.5l.94-2.06 2.06-.94-2.06-.94L8.5 2.5l-.94 2.06-2.06.94zm10 10l.94 2.06.94-2.06 2.06-.94-2.06-.94-.94-2.06-.94 2.06-2.06.94z\"/><path d=\"M17.41 7.96l-1.37-1.37c-.4-.4-.92-.59-1.43-.59-.52 0-1.04.2-1.43.59L10.3 9.45l-7.72 7.72c-.78.78-.78 2.05 0 2.83L4 21.41c.39.39.9.59 1.41.59.51 0 1.02-.2 1.41-.59l7.78-7.78 2.81-2.81c.8-.78.8-2.07 0-2.86zM5.41 20L4 18.59l7.72-7.72 1.47 1.35L5.41 20z\"/>\n",
              "  </svg>\n",
              "      </button>\n",
              "      \n",
              "  <style>\n",
              "    .colab-df-container {\n",
              "      display:flex;\n",
              "      flex-wrap:wrap;\n",
              "      gap: 12px;\n",
              "    }\n",
              "\n",
              "    .colab-df-convert {\n",
              "      background-color: #E8F0FE;\n",
              "      border: none;\n",
              "      border-radius: 50%;\n",
              "      cursor: pointer;\n",
              "      display: none;\n",
              "      fill: #1967D2;\n",
              "      height: 32px;\n",
              "      padding: 0 0 0 0;\n",
              "      width: 32px;\n",
              "    }\n",
              "\n",
              "    .colab-df-convert:hover {\n",
              "      background-color: #E2EBFA;\n",
              "      box-shadow: 0px 1px 2px rgba(60, 64, 67, 0.3), 0px 1px 3px 1px rgba(60, 64, 67, 0.15);\n",
              "      fill: #174EA6;\n",
              "    }\n",
              "\n",
              "    [theme=dark] .colab-df-convert {\n",
              "      background-color: #3B4455;\n",
              "      fill: #D2E3FC;\n",
              "    }\n",
              "\n",
              "    [theme=dark] .colab-df-convert:hover {\n",
              "      background-color: #434B5C;\n",
              "      box-shadow: 0px 1px 3px 1px rgba(0, 0, 0, 0.15);\n",
              "      filter: drop-shadow(0px 1px 2px rgba(0, 0, 0, 0.3));\n",
              "      fill: #FFFFFF;\n",
              "    }\n",
              "  </style>\n",
              "\n",
              "      <script>\n",
              "        const buttonEl =\n",
              "          document.querySelector('#df-35c495e6-4a17-44ef-a428-dabbe7e2c3fc button.colab-df-convert');\n",
              "        buttonEl.style.display =\n",
              "          google.colab.kernel.accessAllowed ? 'block' : 'none';\n",
              "\n",
              "        async function convertToInteractive(key) {\n",
              "          const element = document.querySelector('#df-35c495e6-4a17-44ef-a428-dabbe7e2c3fc');\n",
              "          const dataTable =\n",
              "            await google.colab.kernel.invokeFunction('convertToInteractive',\n",
              "                                                     [key], {});\n",
              "          if (!dataTable) return;\n",
              "\n",
              "          const docLinkHtml = 'Like what you see? Visit the ' +\n",
              "            '<a target=\"_blank\" href=https://colab.research.google.com/notebooks/data_table.ipynb>data table notebook</a>'\n",
              "            + ' to learn more about interactive tables.';\n",
              "          element.innerHTML = '';\n",
              "          dataTable['output_type'] = 'display_data';\n",
              "          await google.colab.output.renderOutput(dataTable, element);\n",
              "          const docLink = document.createElement('div');\n",
              "          docLink.innerHTML = docLinkHtml;\n",
              "          element.appendChild(docLink);\n",
              "        }\n",
              "      </script>\n",
              "    </div>\n",
              "  </div>\n",
              "  "
            ]
          },
          "metadata": {},
          "execution_count": 23
        }
      ]
    },
    {
      "cell_type": "code",
      "source": [
        "fig,ax = plt.subplots(figsize=(12,9))\n",
        "Y_pos = np.arange(len(efs_results))\n",
        "ax.barh(Y_pos,\n",
        "        efs_results['avg_score'],\n",
        "        xerr=efs_results['std_dev'],\n",
        "        color='tomato')\n",
        "ax.set_yticks(Y_pos)\n",
        "ax.set_yticklabels(efs_results['feature_names'])\n",
        "ax.set_xlabel('Accuracy')\n",
        "plt.show()"
      ],
      "metadata": {
        "colab": {
          "base_uri": "https://localhost:8080/",
          "height": 557
        },
        "id": "SRXy4EGMLJZq",
        "outputId": "10924613-9880-4d5c-f8ec-4bdfe08bb936"
      },
      "execution_count": 25,
      "outputs": [
        {
          "output_type": "display_data",
          "data": {
            "text/plain": [
              "<Figure size 864x648 with 1 Axes>"
            ],
            "image/png": "[encoded data removed]"
          },
          "metadata": {}
        }
      ]
    },
    {
      "cell_type": "code",
      "source": [
        "from mlxtend.feature_selection import SequentialFeatureSelector as SFS"
      ],
      "metadata": {
        "id": "cs6IQ5iZL-eB"
      },
      "execution_count": 26,
      "outputs": []
    },
    {
      "cell_type": "code",
      "source": [
        "lr = LogisticRegression()\n",
        "sfs = SFS(estimator=lr,\n",
        "          k_features=(1,4),\n",
        "          forward=True,\n",
        "          scoring=\"accuracy\",\n",
        "          cv=5)\n",
        "\n",
        "sfs.fit(X_data, Y_data)\n",
        "\n",
        "print(f\"\\nBest accuracy: {sfs.k_score_:.2f}\")\n",
        "print(f'Best subset (indices): {sfs.k_feature_idx_}')\n",
        "print(f'Best subset (corresponding names): {sfs.k_feature_names_}')"
      ],
      "metadata": {
        "colab": {
          "base_uri": "https://localhost:8080/"
        },
        "id": "mZRFfxOlMHct",
        "outputId": "1ed3fc9b-8d50-4eb5-c39c-99151887a2c6"
      },
      "execution_count": 29,
      "outputs": [
        {
          "output_type": "stream",
          "name": "stdout",
          "text": [
            "\n",
            "Best accuracy: 0.97\n",
            "Best subset (indices): (0, 1, 2, 3)\n",
            "Best subset (corresponding names): ('sepal length (cm)', 'sepal width (cm)', 'petal length (cm)', 'petal width (cm)')\n"
          ]
        }
      ]
    },
    {
      "cell_type": "code",
      "source": [
        "X_data_new = sfs.transform(X_data)\n",
        "\n",
        "print(f\"Number of features before transformation: {X_data.shape[1]}\")\n",
        "print(f\"Number of features after transformation: {X_data_new.shape[1]}\")"
      ],
      "metadata": {
        "colab": {
          "base_uri": "https://localhost:8080/"
        },
        "id": "Az86H0l9Mg70",
        "outputId": "abace435-2dbe-4d0e-b995-7dc34b998bb3"
      },
      "execution_count": 30,
      "outputs": [
        {
          "output_type": "stream",
          "name": "stdout",
          "text": [
            "Number of features before transformation: 4\n",
            "Number of features after transformation: 4\n"
          ]
        }
      ]
    },
    {
      "cell_type": "code",
      "source": [
        "sfs_results = pd.DataFrame.from_dict(sfs.subsets_).T\n",
        "sfs_results"
      ],
      "metadata": {
        "colab": {
          "base_uri": "https://localhost:8080/",
          "height": 175
        },
        "id": "ZseJeEGtMqHg",
        "outputId": "b860fc28-9447-4748-915f-a982c120b871"
      },
      "execution_count": 31,
      "outputs": [
        {
          "output_type": "execute_result",
          "data": {
            "text/plain": [
              "    feature_idx                                          cv_scores avg_score  \\\n",
              "1          (3,)  [1.0, 0.9666666666666667, 0.9, 0.9333333333333...      0.96   \n",
              "2        (2, 3)  [0.9666666666666667, 0.9666666666666667, 0.933...      0.96   \n",
              "3     (0, 2, 3)  [0.9666666666666667, 0.9666666666666667, 0.933...  0.966667   \n",
              "4  (0, 1, 2, 3)  [0.9666666666666667, 1.0, 0.9333333333333333, ...  0.973333   \n",
              "\n",
              "                                       feature_names  \n",
              "1                                (petal width (cm),)  \n",
              "2              (petal length (cm), petal width (cm))  \n",
              "3  (sepal length (cm), petal length (cm), petal w...  \n",
              "4  (sepal length (cm), sepal width (cm), petal le...  "
            ],
            "text/html": [
              "\n",
              "  <div id=\"df-8e4bf2a2-37e4-4b63-9c36-fd6d33f93395\">\n",
              "    <div class=\"colab-df-container\">\n",
              "      <div>\n",
              "<style scoped>\n",
              "    .dataframe tbody tr th:only-of-type {\n",
              "        vertical-align: middle;\n",
              "    }\n",
              "\n",
              "    .dataframe tbody tr th {\n",
              "        vertical-align: top;\n",
              "    }\n",
              "\n",
              "    .dataframe thead th {\n",
              "        text-align: right;\n",
              "    }\n",
              "</style>\n",
              "<table border=\"1\" class=\"dataframe\">\n",
              "  <thead>\n",
              "    <tr style=\"text-align: right;\">\n",
              "      <th></th>\n",
              "      <th>feature_idx</th>\n",
              "      <th>cv_scores</th>\n",
              "      <th>avg_score</th>\n",
              "      <th>feature_names</th>\n",
              "    </tr>\n",
              "  </thead>\n",
              "  <tbody>\n",
              "    <tr>\n",
              "      <th>1</th>\n",
              "      <td>(3,)</td>\n",
              "      <td>[1.0, 0.9666666666666667, 0.9, 0.9333333333333...</td>\n",
              "      <td>0.96</td>\n",
              "      <td>(petal width (cm),)</td>\n",
              "    </tr>\n",
              "    <tr>\n",
              "      <th>2</th>\n",
              "      <td>(2, 3)</td>\n",
              "      <td>[0.9666666666666667, 0.9666666666666667, 0.933...</td>\n",
              "      <td>0.96</td>\n",
              "      <td>(petal length (cm), petal width (cm))</td>\n",
              "    </tr>\n",
              "    <tr>\n",
              "      <th>3</th>\n",
              "      <td>(0, 2, 3)</td>\n",
              "      <td>[0.9666666666666667, 0.9666666666666667, 0.933...</td>\n",
              "      <td>0.966667</td>\n",
              "      <td>(sepal length (cm), petal length (cm), petal w...</td>\n",
              "    </tr>\n",
              "    <tr>\n",
              "      <th>4</th>\n",
              "      <td>(0, 1, 2, 3)</td>\n",
              "      <td>[0.9666666666666667, 1.0, 0.9333333333333333, ...</td>\n",
              "      <td>0.973333</td>\n",
              "      <td>(sepal length (cm), sepal width (cm), petal le...</td>\n",
              "    </tr>\n",
              "  </tbody>\n",
              "</table>\n",
              "</div>\n",
              "      <button class=\"colab-df-convert\" onclick=\"convertToInteractive('df-8e4bf2a2-37e4-4b63-9c36-fd6d33f93395')\"\n",
              "              title=\"Convert this dataframe to an interactive table.\"\n",
              "              style=\"display:none;\">\n",
              "        \n",
              "  <svg xmlns=\"http://www.w3.org/2000/svg\" height=\"24px\"viewBox=\"0 0 24 24\"\n",
              "       width=\"24px\">\n",
              "    <path d=\"M0 0h24v24H0V0z\" fill=\"none\"/>\n",
              "    <path d=\"M18.56 5.44l.94 2.06.94-2.06 2.06-.94-2.06-.94-.94-2.06-.94 2.06-2.06.94zm-11 1L8.5 8.5l.94-2.06 2.06-.94-2.06-.94L8.5 2.5l-.94 2.06-2.06.94zm10 10l.94 2.06.94-2.06 2.06-.94-2.06-.94-.94-2.06-.94 2.06-2.06.94z\"/><path d=\"M17.41 7.96l-1.37-1.37c-.4-.4-.92-.59-1.43-.59-.52 0-1.04.2-1.43.59L10.3 9.45l-7.72 7.72c-.78.78-.78 2.05 0 2.83L4 21.41c.39.39.9.59 1.41.59.51 0 1.02-.2 1.41-.59l7.78-7.78 2.81-2.81c.8-.78.8-2.07 0-2.86zM5.41 20L4 18.59l7.72-7.72 1.47 1.35L5.41 20z\"/>\n",
              "  </svg>\n",
              "      </button>\n",
              "      \n",
              "  <style>\n",
              "    .colab-df-container {\n",
              "      display:flex;\n",
              "      flex-wrap:wrap;\n",
              "      gap: 12px;\n",
              "    }\n",
              "\n",
              "    .colab-df-convert {\n",
              "      background-color: #E8F0FE;\n",
              "      border: none;\n",
              "      border-radius: 50%;\n",
              "      cursor: pointer;\n",
              "      display: none;\n",
              "      fill: #1967D2;\n",
              "      height: 32px;\n",
              "      padding: 0 0 0 0;\n",
              "      width: 32px;\n",
              "    }\n",
              "\n",
              "    .colab-df-convert:hover {\n",
              "      background-color: #E2EBFA;\n",
              "      box-shadow: 0px 1px 2px rgba(60, 64, 67, 0.3), 0px 1px 3px 1px rgba(60, 64, 67, 0.15);\n",
              "      fill: #174EA6;\n",
              "    }\n",
              "\n",
              "    [theme=dark] .colab-df-convert {\n",
              "      background-color: #3B4455;\n",
              "      fill: #D2E3FC;\n",
              "    }\n",
              "\n",
              "    [theme=dark] .colab-df-convert:hover {\n",
              "      background-color: #434B5C;\n",
              "      box-shadow: 0px 1px 3px 1px rgba(0, 0, 0, 0.15);\n",
              "      filter: drop-shadow(0px 1px 2px rgba(0, 0, 0, 0.3));\n",
              "      fill: #FFFFFF;\n",
              "    }\n",
              "  </style>\n",
              "\n",
              "      <script>\n",
              "        const buttonEl =\n",
              "          document.querySelector('#df-8e4bf2a2-37e4-4b63-9c36-fd6d33f93395 button.colab-df-convert');\n",
              "        buttonEl.style.display =\n",
              "          google.colab.kernel.accessAllowed ? 'block' : 'none';\n",
              "\n",
              "        async function convertToInteractive(key) {\n",
              "          const element = document.querySelector('#df-8e4bf2a2-37e4-4b63-9c36-fd6d33f93395');\n",
              "          const dataTable =\n",
              "            await google.colab.kernel.invokeFunction('convertToInteractive',\n",
              "                                                     [key], {});\n",
              "          if (!dataTable) return;\n",
              "\n",
              "          const docLinkHtml = 'Like what you see? Visit the ' +\n",
              "            '<a target=\"_blank\" href=https://colab.research.google.com/notebooks/data_table.ipynb>data table notebook</a>'\n",
              "            + ' to learn more about interactive tables.';\n",
              "          element.innerHTML = '';\n",
              "          dataTable['output_type'] = 'display_data';\n",
              "          await google.colab.output.renderOutput(dataTable, element);\n",
              "          const docLink = document.createElement('div');\n",
              "          docLink.innerHTML = docLinkHtml;\n",
              "          element.appendChild(docLink);\n",
              "        }\n",
              "      </script>\n",
              "    </div>\n",
              "  </div>\n",
              "  "
            ]
          },
          "metadata": {},
          "execution_count": 31
        }
      ]
    },
    {
      "cell_type": "code",
      "source": [
        "fig,ax = plt.subplots(figsize=(6,2))\n",
        "Y_pos = np.arange(len(sfs_results))\n",
        "ax.barh(Y_pos,\n",
        "        sfs_results['avg_score'],\n",
        "        color='tomato')\n",
        "ax.set_yticks(Y_pos)\n",
        "ax.set_yticklabels(sfs_results['feature_names'])\n",
        "ax.set_xlabel('Accuracy')\n",
        "plt.show()"
      ],
      "metadata": {
        "colab": {
          "base_uri": "https://localhost:8080/",
          "height": 176
        },
        "id": "EtjmqLSIMzV1",
        "outputId": "6a5b96d0-e86c-4bbc-87a3-5c0707bc00c4"
      },
      "execution_count": 32,
      "outputs": [
        {
          "output_type": "display_data",
          "data": {
            "text/plain": [
              "<Figure size 432x144 with 1 Axes>"
            ],
            "image/png": "[encoded data removed]"
          },
          "metadata": {}
        }
      ]
    },
    {
      "cell_type": "code",
      "source": [
        "lr = LogisticRegression()\n",
        "sbs = SFS(estimator=lr,\n",
        "          k_features=(1,4),\n",
        "          forward=False,\n",
        "          scoring=\"accuracy\",\n",
        "          cv=5)\n",
        "\n",
        "sbs = sbs.fit(X_data.values, Y_data) #Customowe nazwy wywalają błąd\n",
        "\n",
        "print(f\"\\nBest accuracy: {sbs.k_score_:.2f}\")\n",
        "print(f'Best subset (indices): {sbs.k_feature_idx_}')\n",
        "print(f'Best subset (corresponding names): {sbs.k_feature_names_}')"
      ],
      "metadata": {
        "colab": {
          "base_uri": "https://localhost:8080/"
        },
        "id": "hCcYOLZYNbXn",
        "outputId": "eae318ec-e6a4-4751-d085-f7e46d5341e0"
      },
      "execution_count": 56,
      "outputs": [
        {
          "output_type": "stream",
          "name": "stdout",
          "text": [
            "\n",
            "Best accuracy: 0.97\n",
            "Best subset (indices): (0, 1, 2, 3)\n",
            "Best subset (corresponding names): ('0', '1', '2', '3')\n"
          ]
        }
      ]
    },
    {
      "cell_type": "code",
      "source": [
        "X_data_new = sbs.transform(X_data)\n",
        "\n",
        "print(f\"Number of features before transformation: {X_data.shape[1]}\")\n",
        "print(f\"Number of features after transformation: {X_data_new.shape[1]}\")"
      ],
      "metadata": {
        "colab": {
          "base_uri": "https://localhost:8080/"
        },
        "id": "4a6Im-tRNlLK",
        "outputId": "418e016d-1796-46ef-ae4e-72b7bc104537"
      },
      "execution_count": 44,
      "outputs": [
        {
          "output_type": "stream",
          "name": "stdout",
          "text": [
            "Number of features before transformation: 4\n",
            "Number of features after transformation: 4\n"
          ]
        }
      ]
    },
    {
      "cell_type": "code",
      "source": [
        "sbs_results = pd.DataFrame.from_dict(sbs.subsets_).T\n",
        "sbs_results"
      ],
      "metadata": {
        "colab": {
          "base_uri": "https://localhost:8080/",
          "height": 175
        },
        "id": "AyPa_DxONq4G",
        "outputId": "d472f8f8-107c-43ef-a6b4-4d39cd736c90"
      },
      "execution_count": 45,
      "outputs": [
        {
          "output_type": "execute_result",
          "data": {
            "text/plain": [
              "    feature_idx                                          cv_scores avg_score  \\\n",
              "4  (0, 1, 2, 3)  [0.9666666666666667, 1.0, 0.9333333333333333, ...  0.973333   \n",
              "3     (0, 2, 3)  [0.9666666666666667, 0.9666666666666667, 0.933...  0.966667   \n",
              "2        (2, 3)  [0.9666666666666667, 0.9666666666666667, 0.933...      0.96   \n",
              "1          (3,)  [1.0, 0.9666666666666667, 0.9, 0.9333333333333...      0.96   \n",
              "\n",
              "  feature_names  \n",
              "4  (0, 1, 2, 3)  \n",
              "3     (0, 2, 3)  \n",
              "2        (2, 3)  \n",
              "1          (3,)  "
            ],
            "text/html": [
              "\n",
              "  <div id=\"df-b2edc44e-36d2-46ce-8ef8-a2bccae45ca6\">\n",
              "    <div class=\"colab-df-container\">\n",
              "      <div>\n",
              "<style scoped>\n",
              "    .dataframe tbody tr th:only-of-type {\n",
              "        vertical-align: middle;\n",
              "    }\n",
              "\n",
              "    .dataframe tbody tr th {\n",
              "        vertical-align: top;\n",
              "    }\n",
              "\n",
              "    .dataframe thead th {\n",
              "        text-align: right;\n",
              "    }\n",
              "</style>\n",
              "<table border=\"1\" class=\"dataframe\">\n",
              "  <thead>\n",
              "    <tr style=\"text-align: right;\">\n",
              "      <th></th>\n",
              "      <th>feature_idx</th>\n",
              "      <th>cv_scores</th>\n",
              "      <th>avg_score</th>\n",
              "      <th>feature_names</th>\n",
              "    </tr>\n",
              "  </thead>\n",
              "  <tbody>\n",
              "    <tr>\n",
              "      <th>4</th>\n",
              "      <td>(0, 1, 2, 3)</td>\n",
              "      <td>[0.9666666666666667, 1.0, 0.9333333333333333, ...</td>\n",
              "      <td>0.973333</td>\n",
              "      <td>(0, 1, 2, 3)</td>\n",
              "    </tr>\n",
              "    <tr>\n",
              "      <th>3</th>\n",
              "      <td>(0, 2, 3)</td>\n",
              "      <td>[0.9666666666666667, 0.9666666666666667, 0.933...</td>\n",
              "      <td>0.966667</td>\n",
              "      <td>(0, 2, 3)</td>\n",
              "    </tr>\n",
              "    <tr>\n",
              "      <th>2</th>\n",
              "      <td>(2, 3)</td>\n",
              "      <td>[0.9666666666666667, 0.9666666666666667, 0.933...</td>\n",
              "      <td>0.96</td>\n",
              "      <td>(2, 3)</td>\n",
              "    </tr>\n",
              "    <tr>\n",
              "      <th>1</th>\n",
              "      <td>(3,)</td>\n",
              "      <td>[1.0, 0.9666666666666667, 0.9, 0.9333333333333...</td>\n",
              "      <td>0.96</td>\n",
              "      <td>(3,)</td>\n",
              "    </tr>\n",
              "  </tbody>\n",
              "</table>\n",
              "</div>\n",
              "      <button class=\"colab-df-convert\" onclick=\"convertToInteractive('df-b2edc44e-36d2-46ce-8ef8-a2bccae45ca6')\"\n",
              "              title=\"Convert this dataframe to an interactive table.\"\n",
              "              style=\"display:none;\">\n",
              "        \n",
              "  <svg xmlns=\"http://www.w3.org/2000/svg\" height=\"24px\"viewBox=\"0 0 24 24\"\n",
              "       width=\"24px\">\n",
              "    <path d=\"M0 0h24v24H0V0z\" fill=\"none\"/>\n",
              "    <path d=\"M18.56 5.44l.94 2.06.94-2.06 2.06-.94-2.06-.94-.94-2.06-.94 2.06-2.06.94zm-11 1L8.5 8.5l.94-2.06 2.06-.94-2.06-.94L8.5 2.5l-.94 2.06-2.06.94zm10 10l.94 2.06.94-2.06 2.06-.94-2.06-.94-.94-2.06-.94 2.06-2.06.94z\"/><path d=\"M17.41 7.96l-1.37-1.37c-.4-.4-.92-.59-1.43-.59-.52 0-1.04.2-1.43.59L10.3 9.45l-7.72 7.72c-.78.78-.78 2.05 0 2.83L4 21.41c.39.39.9.59 1.41.59.51 0 1.02-.2 1.41-.59l7.78-7.78 2.81-2.81c.8-.78.8-2.07 0-2.86zM5.41 20L4 18.59l7.72-7.72 1.47 1.35L5.41 20z\"/>\n",
              "  </svg>\n",
              "      </button>\n",
              "      \n",
              "  <style>\n",
              "    .colab-df-container {\n",
              "      display:flex;\n",
              "      flex-wrap:wrap;\n",
              "      gap: 12px;\n",
              "    }\n",
              "\n",
              "    .colab-df-convert {\n",
              "      background-color: #E8F0FE;\n",
              "      border: none;\n",
              "      border-radius: 50%;\n",
              "      cursor: pointer;\n",
              "      display: none;\n",
              "      fill: #1967D2;\n",
              "      height: 32px;\n",
              "      padding: 0 0 0 0;\n",
              "      width: 32px;\n",
              "    }\n",
              "\n",
              "    .colab-df-convert:hover {\n",
              "      background-color: #E2EBFA;\n",
              "      box-shadow: 0px 1px 2px rgba(60, 64, 67, 0.3), 0px 1px 3px 1px rgba(60, 64, 67, 0.15);\n",
              "      fill: #174EA6;\n",
              "    }\n",
              "\n",
              "    [theme=dark] .colab-df-convert {\n",
              "      background-color: #3B4455;\n",
              "      fill: #D2E3FC;\n",
              "    }\n",
              "\n",
              "    [theme=dark] .colab-df-convert:hover {\n",
              "      background-color: #434B5C;\n",
              "      box-shadow: 0px 1px 3px 1px rgba(0, 0, 0, 0.15);\n",
              "      filter: drop-shadow(0px 1px 2px rgba(0, 0, 0, 0.3));\n",
              "      fill: #FFFFFF;\n",
              "    }\n",
              "  </style>\n",
              "\n",
              "      <script>\n",
              "        const buttonEl =\n",
              "          document.querySelector('#df-b2edc44e-36d2-46ce-8ef8-a2bccae45ca6 button.colab-df-convert');\n",
              "        buttonEl.style.display =\n",
              "          google.colab.kernel.accessAllowed ? 'block' : 'none';\n",
              "\n",
              "        async function convertToInteractive(key) {\n",
              "          const element = document.querySelector('#df-b2edc44e-36d2-46ce-8ef8-a2bccae45ca6');\n",
              "          const dataTable =\n",
              "            await google.colab.kernel.invokeFunction('convertToInteractive',\n",
              "                                                     [key], {});\n",
              "          if (!dataTable) return;\n",
              "\n",
              "          const docLinkHtml = 'Like what you see? Visit the ' +\n",
              "            '<a target=\"_blank\" href=https://colab.research.google.com/notebooks/data_table.ipynb>data table notebook</a>'\n",
              "            + ' to learn more about interactive tables.';\n",
              "          element.innerHTML = '';\n",
              "          dataTable['output_type'] = 'display_data';\n",
              "          await google.colab.output.renderOutput(dataTable, element);\n",
              "          const docLink = document.createElement('div');\n",
              "          docLink.innerHTML = docLinkHtml;\n",
              "          element.appendChild(docLink);\n",
              "        }\n",
              "      </script>\n",
              "    </div>\n",
              "  </div>\n",
              "  "
            ]
          },
          "metadata": {},
          "execution_count": 45
        }
      ]
    },
    {
      "cell_type": "code",
      "source": [
        "fig,ax = plt.subplots(figsize=(6,2))\n",
        "Y_pos = np.arange(len(sbs_results))\n",
        "ax.barh(Y_pos,\n",
        "        sbs_results['avg_score'],\n",
        "        color='tomato')\n",
        "ax.set_yticks(Y_pos)\n",
        "ax.set_yticklabels(sbs_results['feature_names'])\n",
        "ax.set_xlabel('Accuracy')\n",
        "plt.show()"
      ],
      "metadata": {
        "colab": {
          "base_uri": "https://localhost:8080/",
          "height": 176
        },
        "id": "BXz-9vVVO0HE",
        "outputId": "934da910-052c-4e53-9ee7-4009727fe0cc"
      },
      "execution_count": 57,
      "outputs": [
        {
          "output_type": "display_data",
          "data": {
            "text/plain": [
              "<Figure size 432x144 with 1 Axes>"
            ],
            "image/png": "[encoded data removed]"
          },
          "metadata": {}
        }
      ]
    },
    {
      "cell_type": "code",
      "source": [
        "print(f'Best subset: {efs.best_feature_names_}')\n",
        "print(f'Best subset: {sfs.k_feature_names_}')\n",
        "print(f'Best subset: {sbs.k_feature_names_}')"
      ],
      "metadata": {
        "colab": {
          "base_uri": "https://localhost:8080/"
        },
        "id": "Ga-XcbRjQohr",
        "outputId": "eb7130c3-533b-4884-a44c-f4ccf8d6a59f"
      },
      "execution_count": 58,
      "outputs": [
        {
          "output_type": "stream",
          "name": "stdout",
          "text": [
            "Best subset: ('sepal length (cm)', 'sepal width (cm)', 'petal length (cm)', 'petal width (cm)')\n",
            "Best subset: ('sepal length (cm)', 'sepal width (cm)', 'petal length (cm)', 'petal width (cm)')\n",
            "Best subset: ('0', '1', '2', '3')\n"
          ]
        }
      ]
    },
    {
      "cell_type": "code",
      "source": [
        "from sklearn.ensemble import RandomForestClassifier\n",
        "from sklearn.model_selection import train_test_split\n",
        "\n",
        "X_train, X_test, Y_train, Y_test = train_test_split(X_data, Y_data, test_size=0.3, random_state=0)"
      ],
      "metadata": {
        "id": "g6vICq8LQ0xn"
      },
      "execution_count": 59,
      "outputs": []
    },
    {
      "cell_type": "code",
      "source": [
        "rfc = RandomForestClassifier(random_state=0, criterion=\"gini\")\n",
        "rfc.fit(X_train, Y_train)\n",
        "\n",
        "for feature in zip(feature_names, rfc.feature_importances_):\n",
        "  print(feature)"
      ],
      "metadata": {
        "colab": {
          "base_uri": "https://localhost:8080/"
        },
        "id": "COftnGG1RPpK",
        "outputId": "2c14dc91-39c7-4684-e00f-d927abde7a20"
      },
      "execution_count": 62,
      "outputs": [
        {
          "output_type": "stream",
          "name": "stdout",
          "text": [
            "('sepal length (cm)', 0.102443508848457)\n",
            "('sepal width (cm)', 0.023647097298179886)\n",
            "('petal length (cm)', 0.479778346415163)\n",
            "('petal width (cm)', 0.39413104743820015)\n"
          ]
        }
      ]
    },
    {
      "cell_type": "code",
      "source": [
        "from sklearn.feature_selection import SelectFromModel"
      ],
      "metadata": {
        "id": "wcaEpXH0Rl1Y"
      },
      "execution_count": 63,
      "outputs": []
    },
    {
      "cell_type": "code",
      "source": [
        "rfc = RandomForestClassifier(random_state=0, criterion=\"gini\")\n",
        "\n",
        "sfm = SelectFromModel(estimator=rfc,\n",
        "                      threshold = 0.2)\n",
        "\n",
        "sfm = sfm.fit(X_train, Y_train)\n",
        "\n",
        "print('The most important features based on random forest classifier:')\n",
        "for feature_list_index in sfm.get_support(indices=True):\n",
        "  print(\"- \"+feature_names[feature_list_index])"
      ],
      "metadata": {
        "colab": {
          "base_uri": "https://localhost:8080/"
        },
        "id": "Q9ONwVQkRrjJ",
        "outputId": "2e77a677-11a6-4220-c993-2e186c2d7a6b"
      },
      "execution_count": 65,
      "outputs": [
        {
          "output_type": "stream",
          "name": "stdout",
          "text": [
            "The most important features based on random forest classifier:\n",
            "- petal length (cm)\n",
            "- petal width (cm)\n"
          ]
        }
      ]
    },
    {
      "cell_type": "code",
      "source": [
        "X_important_train = sfm.transform(X_train)\n",
        "X_important_test = sfm.transform(X_test)\n",
        "\n",
        "print(f'Number of features before tranformation: {X_train.shape[1]}')\n",
        "print(f'Number of features after tranformation: {X_important_train.shape[1]}')"
      ],
      "metadata": {
        "colab": {
          "base_uri": "https://localhost:8080/"
        },
        "id": "Ux1y4ybrSW-a",
        "outputId": "8a4f2e3c-bc07-4a9b-e74f-7f3414bbb3bc"
      },
      "execution_count": 67,
      "outputs": [
        {
          "output_type": "stream",
          "name": "stdout",
          "text": [
            "Number of features before tranformation: 4\n",
            "Number of features after tranformation: 2\n"
          ]
        }
      ]
    },
    {
      "cell_type": "code",
      "source": [
        "from sklearn.metrics import accuracy_score\n",
        "rfc_full = RandomForestClassifier(random_state=0,\n",
        "                                  criterion=\"gini\")\n",
        "rfc_full.fit(X_train,Y_train)\n",
        "pred_full = rfc_full.predict(X_test)\n",
        "\n",
        "print(f'The Accuracy of classifier with full features: {accuracy_score(Y_test,pred_full):.2f}')"
      ],
      "metadata": {
        "colab": {
          "base_uri": "https://localhost:8080/"
        },
        "id": "2wjgEmROS2G_",
        "outputId": "1ca52224-f75b-4819-e986-5e39d3d7d87d"
      },
      "execution_count": 70,
      "outputs": [
        {
          "output_type": "stream",
          "name": "stdout",
          "text": [
            "The Accuracy of classifier with full features: 0.98\n"
          ]
        }
      ]
    },
    {
      "cell_type": "code",
      "source": [
        "rfc_lim = RandomForestClassifier(random_state=0,\n",
        "                                  criterion=\"gini\")\n",
        "rfc_lim.fit(X_important_train,Y_train)\n",
        "pred_lim = rfc_lim.predict(X_important_test)\n",
        "\n",
        "print(f'The Accuracy of classifier with full features: {accuracy_score(Y_test,pred_lim):.2f}')"
      ],
      "metadata": {
        "colab": {
          "base_uri": "https://localhost:8080/"
        },
        "id": "e9sIs3ANTmSI",
        "outputId": "fecd006b-c309-4750-dc4a-640a87590e85"
      },
      "execution_count": 71,
      "outputs": [
        {
          "output_type": "stream",
          "name": "stdout",
          "text": [
            "The Accuracy of classifier with full features: 0.98\n"
          ]
        }
      ]
    }
  ]
}